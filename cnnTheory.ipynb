{
  "nbformat": 4,
  "nbformat_minor": 0,
  "metadata": {
    "kernelspec": {
      "display_name": "Python 3",
      "language": "python",
      "name": "python3"
    },
    "language_info": {
      "codemirror_mode": {
        "name": "ipython",
        "version": 3
      },
      "file_extension": ".py",
      "mimetype": "text/x-python",
      "name": "python",
      "nbconvert_exporter": "python",
      "pygments_lexer": "ipython3",
      "version": "3.8.3"
    },
    "colab": {
      "name": "cnnTheory.ipynb",
      "provenance": [],
      "include_colab_link": true
    }
  },
  "cells": [
    {
      "cell_type": "markdown",
      "metadata": {
        "id": "view-in-github",
        "colab_type": "text"
      },
      "source": [
        "<a href=\"https://colab.research.google.com/github/SiP-AI-ML/LessonMaterials/blob/master/cnnTheory.ipynb\" target=\"_parent\"><img src=\"https://colab.research.google.com/assets/colab-badge.svg\" alt=\"Open In Colab\"/></a>"
      ]
    },
    {
      "cell_type": "markdown",
      "metadata": {
        "id": "XPMG6ZqGnnds",
        "colab_type": "text"
      },
      "source": [
        "# Theory of Convolutional Neural Networks (CNN)"
      ]
    },
    {
      "cell_type": "markdown",
      "metadata": {
        "id": "BOaePd7cn4Qf",
        "colab_type": "text"
      },
      "source": [
        "## Introduction to CNNs\n",
        "\n",
        "Imagine that we want to create a neural network that can recognize a cat versus a dog. Our brains has been trained to recognize a variety of patterns differentiating a cat and a dog -- furriness, size, bone structure, etc. We can replicate this same process with neural networks, which are based off the human brain. Specifically, we do so using Convolutional Neural Networks (CNNs), which can recognize these patterns and differentiate between them. Much like other aspects of neural networks, CNNs are based off human anatomy, specifically the visual cortex of the brain. \n",
        "\n",
        "A CNN is a Deep Learning algorithm which can take in an input image, assign importance (learnable weights and biases) to various patterns in the image and be able to differentiate one from the other. A CNN is able to use much less pre-processing compared to other classification algorithms. While a traditional neural network has to hand-determine filters, a CNN is able to learn these filters by itself. \n",
        "\n",
        "CNNs are most commonly used for image processing, classification, segmentation and also for other auto correlated data. For example, we applied CNNs to classify images as either cats or dogs. \n",
        "\n",
        "This guide includes: \n",
        "- Introduction to CNNs\n",
        "- Traditional Neural Networks vs CNNs\n",
        "- Convolutional Layers\n",
        "- Pooling Layers\n",
        "- Fully Connected Layer"
      ]
    },
    {
      "cell_type": "markdown",
      "metadata": {
        "id": "oUyYNvdov_Ww",
        "colab_type": "text"
      },
      "source": [
        "### Traditional Nueral Networks vs CNNs"
      ]
    },
    {
      "cell_type": "markdown",
      "metadata": {
        "id": "5tvHtZtswHWm",
        "colab_type": "text"
      },
      "source": [
        "At first glance, it's not completely clear why we need a CNN versus a traditional neural network. Hypothetically, we could do the same processes just by flattening an image out into an array of its pixels, as shown below. \n",
        "\n",
        "![](https://drive.google.com/uc?export=download&id=1iddjA56QJGrfS_Sv6MIBB4mvjm1YVTXP)\n",
        "\n",
        "However, by doing this, we would lose all the spatial recognition between pixels -- for example, the relationship between the top left 1 and the middle 2. It would be virtually impossible to have good accuracy with all this spatial recognition lost by flattening the image into an array. \n",
        "\n",
        "A CNN is able to succcessfully capture the Spatial dependencies by applying relevant filters. The architecture performs a better fit to the image dataset by reducing the number of parameters involved and allowing reusability of weights. Across the board, the network can understand the image in general much better. "
      ]
    },
    {
      "cell_type": "markdown",
      "metadata": {
        "id": "mOC1o_VCoTA8",
        "colab_type": "text"
      },
      "source": [
        "## Layers of a CNN\n",
        "\n",
        "A CNN usually has 3 main layers: \n",
        "- Convolutional Layer: differentiates various patterns/features in the image dataset -- for example, a nose, a paw, etc. \n",
        "- Pooling layer: improves efficiency of the program\n",
        "- Fully connected layer: assigns importance to specific features through weights\n",
        "\n",
        "![](https://drive.google.com/uc?export=download&id=1Z6a5kosSr_qxvV6C9dhIMhGEyzNR-nXa)\n",
        "\n",
        "In a machine learning model, one convolutional layer is paired with one pooling layer. For example, in our cats and dogs demo, this is what the model structure looks like: \n",
        "- Convolutional layer\n",
        "- Pooling layer\n",
        "- Convolutional Layer\n",
        "- Pooling layer\n",
        "- Convolutional layer\n",
        "- Pooling Layer\n",
        "- Fully connected layer\n",
        "\n"
      ]
    },
    {
      "cell_type": "markdown",
      "metadata": {
        "id": "Rzh5oTJaqpc-",
        "colab_type": "text"
      },
      "source": [
        "## Convolutional Layers\n",
        "\n",
        "The convolutional layer is the backbone of a CNN and will extract features from an input image. Convolution preserves the relationship between pixels by learning image features using small squares of input data. \n"
      ]
    },
    {
      "cell_type": "markdown",
      "metadata": {
        "id": "l-T8xc4MvRl6",
        "colab_type": "text"
      },
      "source": [
        "### Filters\n",
        "\n",
        "Convolution will learn these features through a mathematical operation that takes 2 inputs, specifically an image matrix from the original image and a filter. \n",
        "\n",
        "A filter is essentially a matrix of learnable weights that is learned through backpropogation. A filter is able to slice through an image and map each section one by one, learning different portions one by one. For example, if a small filter is looking for a dark edge, each time a match is found, you output that onto another matrix. By improving the filter through back-propogation each time, you gradually train the filter to recognize deep patterns in the set of images. \n",
        "\n",
        "Imagine, for example, that we have a 5x5 matrix with image pixel values of 0, 1 and a filter matrix 3 x 3 as shown below. \n",
        "\n",
        "![](https://drive.google.com/uc?export=download&id=1JjiW7k4HmWxL9azoHOCuRudrGxx8cHuY)\n",
        "\n",
        "We would then perform convolution by multiplying the 5x5 matrix with a 3x3 filter at each section. This will output a feature map, which is depicted below as a pink matrix. \n",
        "\n",
        "![](https://drive.google.com/uc?export=download&id=1uCvbADMUSromHtfR9hJcFYcMQ2TAJ6T_)\n",
        "\n",
        "By convoluting the image with different filters, we can perform various operations such as edge detection, blur, and sharpen. \n",
        "\n",
        "\n"
      ]
    },
    {
      "cell_type": "markdown",
      "metadata": {
        "id": "EVFTojU-uSpZ",
        "colab_type": "text"
      },
      "source": [
        "### Strides\n",
        "\n",
        "Filters are not the only trainable variable. Strides, which are the number of pixel sihfts over the input matrix, can have a noticeable effect on the results. For example, in the image above, you can see we move the matrix over one pixel at a time. As opposed to this, the image below shows how it may look if we moved the matrix over two pixels at a time. \n",
        "\n",
        "![](https://drive.google.com/uc?export=download&id=1Cg5QI8FLqRFxyS6jbLohFsaQ-oGxi43U)\n"
      ]
    },
    {
      "cell_type": "markdown",
      "metadata": {
        "id": "XqxuauAauMje",
        "colab_type": "text"
      },
      "source": [
        "### Padding\n",
        "Sometimes, the filter doesn't perfectly fit the input image. In this case, we usually have two options. \n",
        "1. Pad the picture with zeros to make it compatible with the filter (zero-padding)\n",
        "2. Drop the section of the image where the filter didn't fit (valid padding)\n",
        "\n",
        "Both are acceptable ways of making the filter and the image compatible. "
      ]
    },
    {
      "cell_type": "markdown",
      "metadata": {
        "id": "3X78Q-w6sEkm",
        "colab_type": "text"
      },
      "source": [
        "##Pooling layers"
      ]
    },
    {
      "cell_type": "markdown",
      "metadata": {
        "id": "8tW_AP2uoTgh",
        "colab_type": "text"
      },
      "source": [
        "The Pooling Layer is able to reduce the spatial size of the convolved feature. This allows your program to decrease the computational power required to process the data, which is far more efficient. In addition, it can isolate the dominant features of an image that don't depend on rotation or position, which we always want with image recognition. \n",
        "\n",
        "![](https://drive.google.com/uc?export=download&id=1zgD20svB6jpTw4_67o1U0PjLymzkTSXW)"
      ]
    },
    {
      "cell_type": "markdown",
      "metadata": {
        "id": "PC9MlY22oKaw",
        "colab_type": "text"
      },
      "source": [
        "There are 2 main types of pooling: Max Pooling and Average Pooling.\n",
        "\n",
        "Max Pooling will return the maxiumum value from the portion of the image covered by the filter. On the other hand, Average Pooling will return the avearge of all the values from the portion of the image covered by the filter. \n",
        "\n",
        "In general, Max Pooling performs far better than Average Pooling. Max Pooling is essentially a noise suppressant, which will discard the irrelevant activations and reduce dimensionality. Average Pooling will simply perform dimenionality reduction as a noise suppressing mechanism. We don't need all this extra noise in our system, so we typically use Max Pooling. "
      ]
    },
    {
      "cell_type": "markdown",
      "metadata": {
        "id": "_TKklWEkoQvC",
        "colab_type": "text"
      },
      "source": [
        "We typically put the convolutional layer and its associated pooling layer together to form the i-th layer of a CNN. Depending on the complexities in the image, the number of layers may be increased to further capture low-level details, but this must be weighed against the computational power available. \n",
        "\n",
        "At this point, the model is able to understand the features of a neural network. From here, we can flatten the final output and feed it to a regular neural network for classification, which we do using the Fully Connected Layer."
      ]
    },
    {
      "cell_type": "markdown",
      "metadata": {
        "id": "TyK1rizYsEsW",
        "colab_type": "text"
      },
      "source": [
        "##Fully Connected Layer\n",
        "A Fully Connected layer is essentially a normal neural network layer. Our model is now able to recognize and understand the specific features in our image. The Fully Connected layer is a way to determine non-linear relationships between these features and assign importance to each of them during classification. \n",
        "\n",
        "At this point, our input image has been converted to a suitable form for our Multi-Level Perception. Therefore, we can flatten this image into a column vector. After doing so, we can feed this vector to a neural network and apply backpropogation to ever iteration of training. By doing this over numerous epochs, the model can distinguish between dominating and low-level features in images. "
      ]
    }
  ]
}
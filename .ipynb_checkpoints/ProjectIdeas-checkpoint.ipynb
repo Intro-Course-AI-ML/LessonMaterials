{
 "cells": [
  {
   "cell_type": "markdown",
   "metadata": {},
   "source": [
    "Here is a list of project ideas that you guys can use.\n",
    "\n",
    "1. MNIST Hand-Written Digits Classification\n",
    " - This is a really basic machine learning project, you will classify hand written digits as 1 to 10. \n",
    " - You will make a CNN that will be able to classify the images. \n",
    " - Lastly, you will make a small application that allows you to draw a digit and the system will tell you if you are drawing the digit correctly.\n",
    " - https://data-flair.training/blogs/python-deep-learning-project-handwritten-digit-recognition/\n",
    " \n",
    " \n",
    "2. Salary Predictor\n",
    " - This is a very simple linear regression project where you will attempt to predict someone's salary based on how many years they have worked\n",
    " - You will use a very basic dataset and with that you will create a linear regression model to guess salaries.\n",
    " - https://github.com/SiP-AI-ML/LessonMaterials/blob/master/LinearRegressionProject.ipynb\n",
    "\n",
    "3. Soccer Winner Predictions\n",
    " - This project is meant to take a soccer team's data and see if they will win games based on their previous statisitcs.\n",
    " - You will learn how to analyze data and statistics in a formatted method to make predictions.\n",
    " - You will learn about machine learning algorithms that can make predictions for winners and losers. \n",
    " - You will learn how to collect data from different websites.\n",
    " - https://github.com/llSourcell/Predicting_Winning_Teams\n",
    "\n",
    "4. Stock Price Predictions\n",
    " - Guess the prices of stocks based on the market previously. \n",
    " - You will learn how to use the most up to date data and make predictions\n",
    " - You can use a variety of different algorithms such as linear regression, logistic regression, or clustering.\n",
    " - This is one of the more easy projects.\n",
    " - https://www.analyticsvidhya.com/blog/2018/10/predicting-stock-price-machine-learningnd-deep-learning-techniques-python/\n",
    " \n",
    "5. CIFAR-10 Image Classification\n",
    " - This is a similar dataset to the MNIST dataset, but you have to predict which class an image is, and they are not digits. \n",
    " - The images to classify are Airplane, Car, Bird, Cat, Deer, Dog, Frog, Horse, Ship, and Truck\n",
    " - You will build a CNN to classify these images using Keras. \n",
    " - This is a harder task than the MNIST Dataset because the images are more complex and have more going on.\n",
    " - https://data-flair.training/blogs/image-classification-deep-learning-project-python-keras/"
   ]
  },
  {
   "cell_type": "code",
   "execution_count": null,
   "metadata": {
    "collapsed": true
   },
   "outputs": [],
   "source": []
  }
 ],
 "metadata": {
  "kernelspec": {
   "display_name": "Python 3",
   "language": "python",
   "name": "python3"
  },
  "language_info": {
   "codemirror_mode": {
    "name": "ipython",
    "version": 3
   },
   "file_extension": ".py",
   "mimetype": "text/x-python",
   "name": "python",
   "nbconvert_exporter": "python",
   "pygments_lexer": "ipython3",
   "version": "3.7.6"
  }
 },
 "nbformat": 4,
 "nbformat_minor": 4
}

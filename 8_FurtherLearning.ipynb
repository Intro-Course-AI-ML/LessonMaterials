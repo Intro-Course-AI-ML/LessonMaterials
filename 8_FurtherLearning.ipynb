{
  "nbformat": 4,
  "nbformat_minor": 0,
  "metadata": {
    "kernelspec": {
      "display_name": "Python 3",
      "language": "python",
      "name": "python3"
    },
    "language_info": {
      "codemirror_mode": {
        "name": "ipython",
        "version": 3
      },
      "file_extension": ".py",
      "mimetype": "text/x-python",
      "name": "python",
      "nbconvert_exporter": "python",
      "pygments_lexer": "ipython3",
      "version": "3.7.6"
    },
    "colab": {
      "name": "furtherLearning.ipynb",
      "provenance": [],
      "include_colab_link": true
    }
  },
  "cells": [
    {
      "cell_type": "markdown",
      "metadata": {
        "id": "view-in-github",
        "colab_type": "text"
      },
      "source": [
        "<a href=\"https://colab.research.google.com/github/SiP-AI-ML/LessonMaterials/blob/master/furtherLearning.ipynb\" target=\"_parent\"><img src=\"https://colab.research.google.com/assets/colab-badge.svg\" alt=\"Open In Colab\"/></a>"
      ]
    },
    {
      "cell_type": "markdown",
      "metadata": {
        "id": "XcDMVRzHUDj5",
        "colab_type": "text"
      },
      "source": [
        "Congrats! The Intro to AI course is now over. We really hoped that you guys enjoyed the last 8 weeks, because we really enjoyed teaching you all. \n",
        "\n",
        "You all have learned a lot so far, but there is obviously still a lot to learn. We recommend that you guys rewatch any videos and re-read any notebooks that you missed or that you want to brush up on.\n",
        "\n",
        "We recommend that you guys put your coding skills to the test now. We recommend hackathons, as its a great way to put your coding skills to the test in a fun way. \n",
        "\n",
        "Here are some places to find hackathons: \n",
        "Devpost: https://devpost.com/\n",
        "Hackclub Hackathon Listing: https://hackathons.hackclub.com/\n",
        "\n",
        "- In addition, we will be starting a hackathon club at Saratoga High School. For those of you interested in hackathons and entering SHS next year, be sure to join! We'll teach you guys more about hackathons and strategies to consistently win at them. \n",
        "\n",
        "For more courses, go check out these free or cheap courses online: \n",
        "Machine Learning on Coursera: \n",
        "- https://www.coursera.org/learn/machine-learning/home/welcome\n",
        "- [Extremely in-depth course by renowned Stanford professor Andrew Ng](https://www.coursera.org/learn/machine-learning?utm_source=gg&utm_medium=sem&utm_content=07-StanfordML-US&campaignid=685340575&adgroupid=52515609594&device=c&keyword=machine%20learning%20mooc&matchtype=b&network=g&devicemodel=&adpostion=&creativeid=243289762946&hide_mobile_promo&gclid=EAIaIQobChMI9ea9ndyM6wIV4D6tBh1CzQIMEAAYAiAAEgKzKPD_BwE)\n",
        "\n",
        "\n",
        "If you guys have any questions during the school year, email us!\n",
        "- Ayaan: ayaanzhaque@gmail.com\n",
        "- Viraaj: viraajreddi@gmail.com"
      ]
    }
  ]
}
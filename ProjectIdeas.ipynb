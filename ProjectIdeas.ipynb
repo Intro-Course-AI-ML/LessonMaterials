{
 "cells": [
  {
   "cell_type": "markdown",
   "metadata": {
    "colab_type": "text",
    "id": "view-in-github"
   },
   "source": [
    "<a href=\"https://colab.research.google.com/github/SiP-AI-ML/LessonMaterials/blob/master/ProjectIdeas.ipynb\" target=\"_parent\"><img src=\"https://colab.research.google.com/assets/colab-badge.svg\" alt=\"Open In Colab\"/></a>"
   ]
  },
  {
   "cell_type": "markdown",
   "metadata": {
    "colab_type": "text",
    "id": "VqEuW3xvVlM5"
   },
   "source": [
    "Here is a list of project ideas that you guys can use. Of course, we encourage you guys to be creative and potentially come up with your own ideas. \n",
    "\n",
    "1. MNIST Hand-Written Digits Classification\n",
    " - This is a really basic machine learning project, you will classify hand written digits as 1 to 10. \n",
    " - You will make a CNN that will be able to classify the images. \n",
    " - Lastly, you will make a small application that allows you to draw a digit and the system will tell you if you are drawing the digit correctly.\n",
    " - https://data-flair.training/blogs/python-deep-learning-project-handwritten-digit-recognition/\n",
    " \n",
    " \n",
    "2. Salary Predictor\n",
    " - This is a very simple linear regression project where you will attempt to predict someone's salary based on how many years they have worked\n",
    " - You will use a very basic dataset and with that you will create a linear regression model to guess salaries.\n",
    " - https://github.com/SiP-AI-ML/LessonMaterials/blob/master/LinearRegressionProject.ipynb\n",
    "\n",
    "3. Soccer Winner Predictions\n",
    " - This project is meant to take a soccer team's data and see if they will win games based on their previous statisitcs.\n",
    " - You will learn how to analyze data and statistics in a formatted method to make predictions.\n",
    " - You will learn about machine learning algorithms that can make predictions for winners and losers. \n",
    " - You will learn how to collect data from different websites.\n",
    " - https://github.com/llSourcell/Predicting_Winning_Teams\n",
    "\n",
    "4. Stock Price Predictions\n",
    " - Guess the prices of stocks based on the market previously. \n",
    " - You will learn how to use the most up to date data and make predictions\n",
    " - You can use a variety of different algorithms such as linear regression, logistic regression, or clustering.\n",
    " - This is one of the more easy projects.\n",
    " - https://www.analyticsvidhya.com/blog/2018/10/predicting-stock-price-machine-learningnd-deep-learning-techniques-python/\n",
    " \n",
    "5. CIFAR-10 Image Classification\n",
    " - This is a similar dataset to the MNIST dataset, but you have to predict which class an image is, and they are not digits. \n",
    " - The images to classify are Airplane, Car, Bird, Cat, Deer, Dog, Frog, Horse, Ship, and Truck\n",
    " - You will build a CNN to classify these images using Keras. \n",
    " - This is a harder task than the MNIST Dataset because the images are more complex and have more going on.\n",
    " - https://data-flair.training/blogs/image-classification-deep-learning-project-python-keras/\n",
    "\n",
    "6. Fake News Detection Project\n",
    "  - Fake news is obviously a huge problem with misinformation, and you can use machine learning to differentiate it from real news. \n",
    "  - You will extensively learn about NLP, tokenization, lemmatization, classifiers, and more. \n",
    "  - If you didn't understand the NLP stuff that much, maybe try one of the earler pr\n",
    "  - https://data-flair.training/blogs/advanced-python-project-detecting-fake-news/ \n",
    "\n",
    "7. Emojify – Create your own emoji with Deep Learning\n",
    "  - We will build a deep learning model to classify facial expressions. Then, we will map the classified emotion to an emoji or an avatar.\n",
    "  -  This is a harder project, but it's very cool and uses many groundbreaking concepts\n",
    "  - You will work with cameras, use keras models, and more. \n",
    "  - This is one of the hardest projects to choose from, so you will have to do a lot on your own between classes. If you weren't able to understand a lot from the class, try one of the other projects.\n",
    "  - https://data-flair.training/blogs/create-emoji-with-deep-learning/\n",
    "  \n",
    "8. Home Price Predictions\n",
    "  - For this project, you will try to predict the prices of homes based on the data provided.\n",
    "  - The data is in the example_data folder in our repo, just link the raw version.\n",
    "  - This is a fun project where you can learn about logisitc regression, neural networks, and other types of models\n",
    "  - It is an intermediate level project, not too difficult though\n",
    "  - https://www.hackerearth.com/practice/machine-learning/machine-learning-projects/python-project/tutorial/\n",
    "\n",
    "9. Breast Cancer Detection\n",
    "  - classify whether breast cancer is benign (not harmful) or malignant (harmful)\n",
    "  - use multiple factors (e.g. age, family history, genetics, etc) to determine classification\n",
    "  - note: this project involves a lot of biological background and information, so we only recommend it for our older students\n",
    "  https://towardsdatascience.com/building-a-simple-machine-learning-model-on-breast-cancer-data-eca4b3b99fa3\n",
    "10. Iris Flower Classification\n",
    "  - In this project, you have to classify a flower in three different categories: Setosa, Virginica, and Versicolor.\n",
    "  - You will work with a csv file and classify flowers based on their attributes.\n",
    "  - https://github.com/aayush2906/Iris_flower_classification-Data-Science"
   ]
  },
  {
   "cell_type": "code",
   "execution_count": null,
   "metadata": {
    "colab": {},
    "colab_type": "code",
    "id": "YtBRWm6HPd-p"
   },
   "outputs": [],
   "source": []
  }
 ],
 "metadata": {
  "colab": {
   "include_colab_link": true,
   "name": "ProjectIdeas.ipynb",
   "provenance": []
  },
  "kernelspec": {
   "display_name": "Python 3",
   "language": "python",
   "name": "python3"
  },
  "language_info": {
   "codemirror_mode": {
    "name": "ipython",
    "version": 3
   },
   "file_extension": ".py",
   "mimetype": "text/x-python",
   "name": "python",
   "nbconvert_exporter": "python",
   "pygments_lexer": "ipython3",
   "version": "3.7.6"
  }
 },
 "nbformat": 4,
 "nbformat_minor": 1
}

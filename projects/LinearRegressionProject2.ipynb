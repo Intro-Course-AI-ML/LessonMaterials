{
  "nbformat": 4,
  "nbformat_minor": 0,
  "metadata": {
    "kernelspec": {
      "display_name": "Python 3",
      "language": "python",
      "name": "python3"
    },
    "language_info": {
      "codemirror_mode": {
        "name": "ipython",
        "version": 3
      },
      "file_extension": ".py",
      "mimetype": "text/x-python",
      "name": "python",
      "nbconvert_exporter": "python",
      "pygments_lexer": "ipython3",
      "version": "3.8.3"
    },
    "colab": {
      "name": "LinearRegressionProject2UNIFINISHED.ipynb",
      "provenance": []
    }
  },
  "cells": [
    {
      "cell_type": "markdown",
      "metadata": {
        "id": "oYFDiSAvPAeL",
        "colab_type": "text"
      },
      "source": [
        "# Linear Regression Project 2 \n",
        "\n",
        "We will do one more linear regression project to confirm that the class fully understands these concepts. This time, we do expect that all of you create your own colab notebook and write the code as we do. By doing it yourself, you must understand all the concepts of the code. \n",
        "\n",
        "This project will be predicting the advertising value of a product based on its sales value. \n",
        "\n",
        "There are five steps in coding a linear regession model that we will follow today. These steps are generally applicable along all types of machine learning. \n",
        "\n",
        "1. <b>Data Collection:</b> Getting the data to train your model with\n",
        "2. <b>Data Processing:</b> Manipulating the data to be custom and compatible with your project\n",
        "3. <b>Training the model:</b> Using the data to improve your machine learning hypothesis function\n",
        "4. <b>Assessing model accuracy:</b> Testing how accurate your model truly is\n",
        "5. <b>Making predictions:</b> Using your finished model to make predictions on completely new data you have"
      ]
    },
    {
      "cell_type": "markdown",
      "metadata": {
        "id": "fiOwBSMARw6h",
        "colab_type": "text"
      },
      "source": [
        "## Data Collection\n",
        "\n",
        "Our goal here is to prepare for actually training the model by acquiring all necessary materials. For now, that means we will access relevant libraries along with our dataset, which will be used together to train the model. "
      ]
    },
    {
      "cell_type": "markdown",
      "metadata": {
        "id": "EZOKPmIDOTCG",
        "colab_type": "text"
      },
      "source": [
        "We always start a project by importing our relevant libraries, which allows us to access pre-written commands that make our lives easier. Here, we import numpy, pandas, and matplot, which you should have learned about in the python class. "
      ]
    },
    {
      "cell_type": "code",
      "metadata": {
        "id": "aZQzAHjAOTCI",
        "colab_type": "code",
        "colab": {}
      },
      "source": [
        "import numpy as np\n",
        "import pandas as pd\n",
        "import matplotlib.pyplot as plt"
      ],
      "execution_count": null,
      "outputs": []
    },
    {
      "cell_type": "markdown",
      "metadata": {
        "id": "rMXVxmL_OTCM",
        "colab_type": "text"
      },
      "source": [
        "At this point, we will import our dataset using the read_csv command. Through this command, we access the csv and convert it to a dataframe we can manipulate and work with through pandas. We first give the link to our dataset (which for now is in GitHub). We then specify that our header is none, which means that we don't give the columns any names for now. "
      ]
    },
    {
      "cell_type": "code",
      "metadata": {
        "id": "Dm0kuUcuOTCN",
        "colab_type": "code",
        "colab": {}
      },
      "source": [
        "df = pd.read_csv(\"https://raw.githubusercontent.com/SiP-AI-ML/LessonMaterials/master/sales_data.csv\", header=None)"
      ],
      "execution_count": null,
      "outputs": []
    },
    {
      "cell_type": "markdown",
      "metadata": {
        "id": "W2gCg3dVOTCh",
        "colab_type": "text"
      },
      "source": [
        "We want to confirm that our data looks how we expected. We can do so using the head() method, which allows us to view the top five rows of our dataset. "
      ]
    },
    {
      "cell_type": "code",
      "metadata": {
        "id": "ZRUWIECEOTCh",
        "colab_type": "code",
        "colab": {
          "base_uri": "https://localhost:8080/",
          "height": 119
        },
        "outputId": "0587df23-600a-4b50-8563-db02aac59d79"
      },
      "source": [
        "print(df.head())"
      ],
      "execution_count": null,
      "outputs": [
        {
          "output_type": "stream",
          "text": [
            "      0     1\n",
            "0  12.0  15.0\n",
            "1  20.5  16.0\n",
            "2  21.0  18.0\n",
            "3  15.5  27.0\n",
            "4  15.3  21.0\n"
          ],
          "name": "stdout"
        }
      ]
    },
    {
      "cell_type": "markdown",
      "metadata": {
        "id": "aPMwVA62R8pE",
        "colab_type": "text"
      },
      "source": [
        "## Data Processing\n",
        "\n",
        "We now have a dataset that looks reasonable and the functions to carry them out. However, the data here isn't compatible with our model yet. Therefore, we have to change it around to input it. "
      ]
    },
    {
      "cell_type": "markdown",
      "metadata": {
        "id": "FVDJHcrHOTDB",
        "colab_type": "text"
      },
      "source": [
        "First, let's give our columns titles to make it easier to refer to them. "
      ]
    },
    {
      "cell_type": "code",
      "metadata": {
        "id": "N7ImeNAvOTDC",
        "colab_type": "code",
        "colab": {}
      },
      "source": [
        "df.columns = ['Sales', 'Advertising']"
      ],
      "execution_count": null,
      "outputs": []
    },
    {
      "cell_type": "markdown",
      "metadata": {
        "id": "KIKGgBXdOTDP",
        "colab_type": "text"
      },
      "source": [
        "To confirm that our columns were properly renamed, we will call the head function again."
      ]
    },
    {
      "cell_type": "code",
      "metadata": {
        "id": "vtiE99enOTDQ",
        "colab_type": "code",
        "colab": {
          "base_uri": "https://localhost:8080/",
          "height": 119
        },
        "outputId": "1cb3ed81-1fa1-478e-9e5c-83df7d192891"
      },
      "source": [
        "print(df.head())"
      ],
      "execution_count": null,
      "outputs": [
        {
          "output_type": "stream",
          "text": [
            "   Sales  Advertising\n",
            "0   12.0         15.0\n",
            "1   20.5         16.0\n",
            "2   21.0         18.0\n",
            "3   15.5         27.0\n",
            "4   15.3         21.0\n"
          ],
          "name": "stdout"
        }
      ]
    },
    {
      "cell_type": "markdown",
      "metadata": {
        "id": "Sr3kLleyOTDc",
        "colab_type": "text"
      },
      "source": [
        "Next, let's isolate our sales column and give it its own variable. This will allow us to specifically access the sales column while training our model, which will make the entire process much easier. "
      ]
    },
    {
      "cell_type": "code",
      "metadata": {
        "id": "6hVhubEbOTDc",
        "colab_type": "code",
        "colab": {}
      },
      "source": [
        "X = df['Sales'].values"
      ],
      "execution_count": null,
      "outputs": []
    },
    {
      "cell_type": "markdown",
      "metadata": {
        "id": "g1lvhXgqOTDf",
        "colab_type": "text"
      },
      "source": [
        "We will do the same for y, which represents the advertising column. This will make the entire process of training and visualizing our data much easier."
      ]
    },
    {
      "cell_type": "code",
      "metadata": {
        "id": "92HH0r6yOTDf",
        "colab_type": "code",
        "colab": {}
      },
      "source": [
        "y = df['Advertising'].values"
      ],
      "execution_count": null,
      "outputs": []
    },
    {
      "cell_type": "markdown",
      "metadata": {
        "id": "CSzem0y2OTDs",
        "colab_type": "text"
      },
      "source": [
        "We have now isolated the columns of our dataset and given them their own variables, which is helpful for later use. However, our data is still incompatible with the machine learning model. We need to change the structure of our dataset in order to input it. \n",
        "\n",
        "Specifically, a machine learning model requires a 2D array. For those of you who haven't taken algebra, it's essentially a bunch of arrays in an array. We need to make our X and Y columns into 2D array to input them. \n",
        "\n",
        "We will do so using the numpy reshape method. We will make our first dimension -1; don't worry about this, as it is irrelevant and doesn't impact our dataset. The other dimension will be 1, which means the array is just 1 row of inputs.  \n"
      ]
    },
    {
      "cell_type": "code",
      "metadata": {
        "id": "NcxifSCrOTDs",
        "colab_type": "code",
        "colab": {
          "base_uri": "https://localhost:8080/",
          "height": 629
        },
        "outputId": "625fd7cc-c139-429b-f002-4655808277f8"
      },
      "source": [
        "X = X.reshape(-1,1)\n",
        "y = y.reshape(-1,1)\n",
        "\n",
        "print(X)\n"
      ],
      "execution_count": null,
      "outputs": [
        {
          "output_type": "stream",
          "text": [
            "[[12. ]\n",
            " [20.5]\n",
            " [21. ]\n",
            " [15.5]\n",
            " [15.3]\n",
            " [23.5]\n",
            " [24.5]\n",
            " [21.3]\n",
            " [23.5]\n",
            " [28. ]\n",
            " [24. ]\n",
            " [15.5]\n",
            " [17.3]\n",
            " [25.3]\n",
            " [25. ]\n",
            " [36.5]\n",
            " [36.5]\n",
            " [29.6]\n",
            " [30.5]\n",
            " [28. ]\n",
            " [26. ]\n",
            " [21.5]\n",
            " [19.7]\n",
            " [19. ]\n",
            " [16. ]\n",
            " [20.7]\n",
            " [26.5]\n",
            " [30.6]\n",
            " [32.3]\n",
            " [29.5]\n",
            " [28.3]\n",
            " [31.3]\n",
            " [32.3]\n",
            " [26.4]\n",
            " [23.4]\n",
            " [16.4]]\n"
          ],
          "name": "stdout"
        }
      ]
    },
    {
      "cell_type": "markdown",
      "metadata": {
        "id": "XEKSF8RXOTDy",
        "colab_type": "text"
      },
      "source": [
        "We need to train our data and improve our model's accuracy, but we also need to see how well our model is doing. To do this, we will split our data into 2 sections -- the training section and the testing section. We use the training section to improve our model and the testing section to assess its capabilities. "
      ]
    },
    {
      "cell_type": "code",
      "metadata": {
        "id": "3tNL1-nQOTD0",
        "colab_type": "code",
        "colab": {}
      },
      "source": [
        "from sklearn.model_selection import train_test_split\n",
        "X_train,X_test,y_train,y_test = train_test_split(X, y, test_size=0.33, random_state=42)\n"
      ],
      "execution_count": null,
      "outputs": []
    },
    {
      "cell_type": "markdown",
      "metadata": {
        "id": "TiJL6NI9OTD5",
        "colab_type": "text"
      },
      "source": [
        "## Training our model\n",
        "\n",
        "Now that our dataset is properly distributed to input into the model, we can begin the initial process of training our model. \n"
      ]
    },
    {
      "cell_type": "markdown",
      "metadata": {
        "id": "al2aro53QKW9",
        "colab_type": "text"
      },
      "source": [
        "We want to use sklearn's capabilities to train our model. We know that we want to use Linear Regression, so we import this from sklearn. However, we need a way to access all these functions, and we do so by initializing it as a variable. "
      ]
    },
    {
      "cell_type": "code",
      "metadata": {
        "id": "BhVjkAtHOTD5",
        "colab_type": "code",
        "colab": {}
      },
      "source": [
        "from sklearn.linear_model import LinearRegression\n",
        "lm = LinearRegression()"
      ],
      "execution_count": null,
      "outputs": []
    },
    {
      "cell_type": "markdown",
      "metadata": {
        "id": "pt4Bdm2bQaGv",
        "colab_type": "text"
      },
      "source": [
        "Now, we have everything we need to begin training our model. We have the dataset in the proper configuration and have established the function we want to fit our data to. \n",
        "\n",
        "Training our model is one simple line of code, written below. Using this one line, the model first comes up with a starting hypothesis. Using the cost function and gradient descent (refer to Week 2), it gradually fits the line better and better to the training data to minimize the error margin. "
      ]
    },
    {
      "cell_type": "code",
      "metadata": {
        "id": "dlgs1xeSQcBb",
        "colab_type": "code",
        "colab": {}
      },
      "source": [
        "lm.fit(X_train,y_train)"
      ],
      "execution_count": null,
      "outputs": []
    },
    {
      "cell_type": "markdown",
      "metadata": {
        "id": "zTlJ8yt9QaOz",
        "colab_type": "text"
      },
      "source": [
        "Now that we have trained our model, let's use a plot to visualize how well it fits to our data. It's not a great fit, but considering the disparity between the data, it fits as well as it can. "
      ]
    },
    {
      "cell_type": "code",
      "metadata": {
        "id": "8g2QHVBkQcJl",
        "colab_type": "code",
        "colab": {
          "base_uri": "https://localhost:8080/",
          "height": 295
        },
        "outputId": "10b3f614-7847-4795-9001-dd0006b0ddea"
      },
      "source": [
        "# plot the actual data points of training set\n",
        "plt.scatter(X_train, y_train, color = 'red')\n",
        "# plot the regression line\n",
        "plt.plot(X_train, lm.predict(X_train), color='blue')\n",
        "plt.title('Sales Value vs Advertising Value (Training set)')\n",
        "plt.xlabel('Sales Value')\n",
        "plt.ylabel('Advertising Value')\n",
        "plt.show()"
      ],
      "execution_count": null,
      "outputs": [
        {
          "output_type": "display_data",
          "data": {
            "image/png": "[encoded data removed]",
            "text/plain": [
              "<Figure size 432x288 with 1 Axes>"
            ]
          },
          "metadata": {
            "tags": [],
            "needs_background": "light"
          }
        }
      ]
    },
    {
      "cell_type": "markdown",
      "metadata": {
        "id": "hx797xogOTD8",
        "colab_type": "text"
      },
      "source": [
        "## Making predictions\n",
        "\n",
        "\n"
      ]
    },
    {
      "cell_type": "markdown",
      "metadata": {
        "colab_type": "text",
        "id": "b1AIZxr5pZyu"
      },
      "source": [
        "Now that we have a linear regression model fitted and trained on our data, we need to assess how well it can predict unknown data, which is the entire purpose of machine learning. To do so, we will now refer to the other section of our dataset, the testing section. We call the predict function to do so. "
      ]
    },
    {
      "cell_type": "code",
      "metadata": {
        "colab_type": "code",
        "id": "4YWwrwuApi99",
        "colab": {}
      },
      "source": [
        "y_pred = lm.predict(X_test)"
      ],
      "execution_count": null,
      "outputs": []
    },
    {
      "cell_type": "markdown",
      "metadata": {
        "id": "O3OFDZ-oaCNW",
        "colab_type": "text"
      },
      "source": [
        "Now that we have used the model on data it hasn't seen before, let's visualize how well it fits. "
      ]
    },
    {
      "cell_type": "code",
      "metadata": {
        "id": "L_RBPTUBaBhj",
        "colab_type": "code",
        "colab": {
          "base_uri": "https://localhost:8080/",
          "height": 295
        },
        "outputId": "72790bd7-db83-42e3-b0ac-26002bb6a0e1"
      },
      "source": [
        "import matplotlib.pyplot as plt\n",
        "# plot the actual data points of test set\n",
        "plt.scatter(X_test, y_test, color = 'red')\n",
        "# plot the regression line (same as above)\n",
        "plt.plot(X_train, lm.predict(X_train), color='blue')\n",
        "plt.title('Sales Value vs Advertising Value (Test Set)')\n",
        "plt.xlabel('Sales Value')\n",
        "plt.ylabel('Advertising value')\n",
        "plt.show()"
      ],
      "execution_count": null,
      "outputs": [
        {
          "output_type": "display_data",
          "data": {
            "image/png": "[encoded data removed]",
            "text/plain": [
              "<Figure size 432x288 with 1 Axes>"
            ]
          },
          "metadata": {
            "tags": [],
            "needs_background": "light"
          }
        }
      ]
    },
    {
      "cell_type": "markdown",
      "metadata": {
        "id": "sP-VDbWqOTEB",
        "colab_type": "text"
      },
      "source": [
        "## Making predictions\n",
        "\n",
        "Now that our model is completely done, we can put it to use by making predictions. \n"
      ]
    },
    {
      "cell_type": "markdown",
      "metadata": {
        "id": "z9m3fw_BSnc7",
        "colab_type": "text"
      },
      "source": [
        "First, we can use it to predict the values of items in our dataset. Below, we predict the advertising value on the first five sales values of our dataset. "
      ]
    },
    {
      "cell_type": "code",
      "metadata": {
        "id": "749-rNMdOTEC",
        "colab_type": "code",
        "colab": {
          "base_uri": "https://localhost:8080/",
          "height": 102
        },
        "outputId": "80ec62df-ef33-4c90-a680-2cfc61ed1ab6"
      },
      "source": [
        "lm.predict(X)[0:5]"
      ],
      "execution_count": null,
      "outputs": [
        {
          "output_type": "execute_result",
          "data": {
            "text/plain": [
              "array([[ 8.10108551],\n",
              "       [21.74438002],\n",
              "       [22.54692675],\n",
              "       [13.71891266],\n",
              "       [13.39789396]])"
            ]
          },
          "metadata": {
            "tags": []
          },
          "execution_count": 111
        }
      ]
    },
    {
      "cell_type": "markdown",
      "metadata": {
        "id": "8l1m5frVS2eh",
        "colab_type": "text"
      },
      "source": [
        "We can also use it to predict the advertising value on sales data it hasn't seen before, which would make it useful for all types of expenditures. Remember that the input is always a 2D array, so before entering it into your model, you must follow this format. "
      ]
    },
    {
      "cell_type": "code",
      "metadata": {
        "id": "4TkZIqTjOTEE",
        "colab_type": "code",
        "colab": {
          "base_uri": "https://localhost:8080/",
          "height": 34
        },
        "outputId": "9666504b-3d27-48b7-c875-8537257bbd2b"
      },
      "source": [
        "# To make an individual prediction using the linear regression model.\n",
        "\n",
        "givenPrediction = [[28]]\n",
        "\n",
        "print(str(lm.predict(givenPrediction)))"
      ],
      "execution_count": null,
      "outputs": [
        {
          "output_type": "stream",
          "text": [
            "[[33.78258106]]\n"
          ],
          "name": "stdout"
        }
      ]
    }
  ]
}
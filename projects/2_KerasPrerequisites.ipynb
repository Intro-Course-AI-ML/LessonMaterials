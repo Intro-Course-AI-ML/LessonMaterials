{
 "cells": [
  {
   "cell_type": "markdown",
   "metadata": {},
   "source": [
    "# Getting started with Keras"
   ]
  },
  {
   "cell_type": "markdown",
   "metadata": {},
   "source": [
    "Keras is a high-level neural networks API, written in Python.\n",
    "\n",
    "Since it’s written in Python, it can run on all the major operating systems.\n",
    "\n",
    "We will be using Google Colab for everything."
   ]
  },
  {
   "cell_type": "markdown",
   "metadata": {},
   "source": [
    "## Prerequisites"
   ]
  },
  {
   "cell_type": "markdown",
   "metadata": {},
   "source": [
    "1.\tKeras is both CPU and GPU compatible. \n",
    "    - If you plan to train on small or simple datasets, then you will most likely be fine solely using your CPU.\n",
    "    - Otherwise, you will need a machine with a GPU, and you will need to install cuDNN (NVIDIA's Deep Neural Network library).\n",
    "2.\tInstall Python.\n",
    "    - I personally recommend installing Anaconda, a Python distribution.\n",
    "    - Currently, Keras is compatible with Python 2.7-3.5.\n",
    "3.\tInstall a backend engine.\n",
    "    - Keras supports either Theano or Tensorflow or CNTK.\n",
    "    - Keras uses TF by default, so if using Theano or CNTK, you will need to change Keras configuration afterwards. \n",
    "    - I have another video in this playlist that explains how to change the backend from Tensorflow to Theano.\n",
    "4.\tInstall Keras.\n",
    "5.\tInstall a Python IDE. \n",
    "    - I prefer working with Jupyter Notebook, a scientific notebook for Python.\n",
    "    - I’ll be using this for working with Keras in subsequent videos.\n",
    "6.\tInstall HDF5 and h5py to have the ability to save Keras models to disk.\n"
   ]
  }
 ],
 "metadata": {
  "kernelspec": {
   "display_name": "Python 3",
   "language": "python",
   "name": "python3"
  },
  "language_info": {
   "codemirror_mode": {
    "name": "ipython",
    "version": 3
   },
   "file_extension": ".py",
   "mimetype": "text/x-python",
   "name": "python",
   "nbconvert_exporter": "python",
   "pygments_lexer": "ipython3",
   "version": "3.8.3"
  }
 },
 "nbformat": 4,
 "nbformat_minor": 2
}

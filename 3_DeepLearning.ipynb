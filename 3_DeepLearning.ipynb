{
 "cells": [
  {
   "cell_type": "markdown",
   "metadata": {
    "colab_type": "text",
    "id": "4RsMuOM24Nc0"
   },
   "source": [
    "## Machine Learning (ML)"
   ]
  },
  {
   "cell_type": "markdown",
   "metadata": {
    "colab_type": "text",
    "id": "oNv3Y_1c4Nds"
   },
   "source": [
    "Machine Learning is the practice of using algorithms to analyze data, learn from that data, and then make a determination or prediction about new data. "
   ]
  },
  {
   "cell_type": "markdown",
   "metadata": {
    "colab_type": "text",
    "id": "zoVmztia4Nd4"
   },
   "source": [
    "### Machine Learning vs. Traditional Programming"
   ]
  },
  {
   "cell_type": "markdown",
   "metadata": {
    "colab_type": "text",
    "id": "3oBR9vxX4Nd8"
   },
   "source": [
    "Example: Analyzing the sentament of a popular media outlet and classifying that sentiment as positive or negative\n",
    "\n",
    "- Traditional Programming approach\n",
    " - The algorithm may first look for particular words associated with a negative or positive sentiment.\n",
    " - With conditional statements, the algorithm would classify articles as positive or negative based on the words that it knows are positive or negative.\n",
    " \n",
    "- Machine Learning approach\n",
    " - The algorithm would analyze large amounts of given media data and *learn* the features that classify what a negative article looks like versus a positive article.\n",
    " - With what it's learned, the algorithm could then classify new articles as positive or negative."
   ]
  },
  {
   "cell_type": "markdown",
   "metadata": {},
   "source": [
    "<img src=\"images/deepLearning.png\">"
   ]
  },
  {
   "cell_type": "markdown",
   "metadata": {
    "colab_type": "text",
    "id": "X2nH5aTk4NeD"
   },
   "source": [
    "## Deep Learning (DL)"
   ]
  },
  {
   "cell_type": "markdown",
   "metadata": {
    "colab_type": "text",
    "id": "1Ch2tLtl4NeD"
   },
   "source": [
    "This video will cover the most basic idea about what deep learning is and how it’s used. In later videos, we’ll be cover more detailed concepts, terms, and tools within the field of deep learning.\n",
    "\n",
    "**Definition:**\n",
    "\n",
    "- Deep learning is a subfield of machine learning that uses algorithms inspired by the structure and function of the brain’s neural networks. \n",
    "- As a subfield of ML, DL also algorithms to analyze data, learn from that data, and then make a determination or prediction about new data."
   ]
  },
  {
   "cell_type": "markdown",
   "metadata": {
    "colab_type": "text",
    "id": "gszjeH7d4NeJ"
   },
   "source": [
    "**Supervised Learning** occurs when your deep learning model learns and makes inferences from data that has already been *labeled*.\n",
    "\n",
    "**Unsupervised Learning** occurs when the model learns and makes inferences from *unlabeled* data. "
   ]
  },
  {
   "cell_type": "markdown",
   "metadata": {},
   "source": [
    "<img src=\"images/learningTypes.png\">"
   ]
  },
  {
   "cell_type": "markdown",
   "metadata": {
    "colab_type": "text",
    "id": "Pjx5XaqN4NeL"
   },
   "source": [
    "**Labeled vs. Unlabeled example**\n",
    "\n",
    "- Classify images of cats and dogs"
   ]
  },
  {
   "cell_type": "markdown",
   "metadata": {
    "colab_type": "text",
    "id": "pV0jMOJR4NeY"
   },
   "source": [
    "### Artificial Neural Networks"
   ]
  },
  {
   "cell_type": "markdown",
   "metadata": {
    "colab_type": "text",
    "id": "io0eyf6Z4NeZ"
   },
   "source": [
    "Artificial neural networks are deep learning models that are based on the structure of the brain's neural networks. \n",
    "\n",
    "- Artificial neural networks are used interchangeably with the terms\n",
    "  - neural net\n",
    "  - net\n",
    "  - model"
   ]
  },
  {
   "cell_type": "markdown",
   "metadata": {
    "colab_type": "text",
    "id": "iqPXOJRG4Nef"
   },
   "source": [
    "## Artificial Neural Networks (ANNs)"
   ]
  },
  {
   "cell_type": "markdown",
   "metadata": {
    "colab_type": "text",
    "id": "L7yAfcA24Nep"
   },
   "source": [
    "Artificial neural networks are computing systems that are inspired by the brain’s neural networks.\n",
    "\n",
    "- These networks are based on a collection of connected units called **artificial neurons**, or **neurons**. \n",
    "- Each connection between neurons can transmit a signal from one neuron to another. \n",
    "- The receiving neuron processes the signal and signals downstream neurons connected to it.\n",
    "- Neurons are organized in layers. There are many different layers in a model\n",
    " - Input layer\n",
    " - Hidden layers\n",
    " - Output layer\n",
    "- These signals are sent from the input layer all the way to the end\n",
    "- Show Picture\n",
    "- Each Neuron is the circle, there are many per layer\n"
   ]
  },
  {
   "cell_type": "markdown",
   "metadata": {},
   "source": [
    "<img src=\"images/ANN.png\">"
   ]
  },
  {
   "cell_type": "markdown",
   "metadata": {
    "colab_type": "text",
    "id": "1SRICo1s4Ner"
   },
   "source": [
    "### Keras Sequential Model"
   ]
  },
  {
   "cell_type": "markdown",
   "metadata": {
    "colab_type": "text",
    "id": "9ATLOSIv4New"
   },
   "source": [
    "The Sequential model is a linear stack of layers."
   ]
  },
  {
   "cell_type": "code",
   "execution_count": null,
   "metadata": {
    "colab": {},
    "colab_type": "code",
    "id": "AuyyP0Ym4Nex"
   },
   "outputs": [],
   "source": [
    "from keras.models import Sequential\n",
    "from keras.layers import Dense, Activation\n",
    "\n",
    "model = Sequential([\n",
    "    Dense(32, input_shape=(10,), activation='relu'), # Input Layer\n",
    "    Dense(2, activation='softmax'), # Output Layer\n",
    "])"
   ]
  },
  {
   "cell_type": "markdown",
   "metadata": {
    "colab_type": "text",
    "collapsed": true,
    "id": "aCTe2fbl4Nf3"
   },
   "source": [
    "## Layers in an ANN"
   ]
  },
  {
   "cell_type": "markdown",
   "metadata": {
    "colab_type": "text",
    "collapsed": true,
    "id": "SQwSI0Q_4Nf7"
   },
   "source": [
    "Artificial neural network are typically organized in layers. \n",
    "Different types of layers include (you will learn about these later)\n",
    "\n",
    "- Dense (or fully connected) Layers (connects each input to each output in every layer)\n",
    "- Convolutional layers (for images)\n",
    "- Pooling Layers\n",
    "- Recurrent Layers (good for time series data)\n",
    "- Normalization Layers\n",
    "- Many others\n",
    "\n",
    "There are different types of layers because each node and each layer does different types of transformations based on its inputs. Some are better for other tasks, such as Convolutional Layers for images or recurreny layers for time series data. \n",
    "\n",
    "Each node in a layer represents an individual feature for each sample within our dataset. Each input is connected to each node in the hidden layer. The input is then transformed into another output. \n",
    "\n",
    "Each connection is called a weight. This is just a number 0-1, it is the strength of the connection between the nodes. The input will be multiplied by the input, and a weighted sum of every weight will be calculated, and that is passed to an activation function that will transform the result to a number 0-1. This is a per nueron basis. \n",
    "\n",
    "That result is then passed on to the next neuron in the next layer, occurs over and over until it gets to the output. \n",
    "\n",
    "The model learns how to adjust these weights so that it is omptimized and can make the best predictions.\n",
    "\n",
    "The last layer contains as many nodes as there are classes. For example, if it was predicting if a drawing was a number 0-9, there would be 10 nodes, and if it was if the picture is a cat or dog, it would have two outputs. \n",
    "\n",
    "  "
   ]
  },
  {
   "cell_type": "markdown",
   "metadata": {},
   "source": [
    "<img src=\"images/weights.png\">"
   ]
  },
  {
   "cell_type": "code",
   "execution_count": null,
   "metadata": {
    "colab": {},
    "colab_type": "code",
    "id": "QsAXMLSc4Nf8"
   },
   "outputs": [],
   "source": [
    "from keras.models import Sequential\n",
    "from keras.layers import Dense, Activation\n",
    "\n",
    "model = Sequential([\n",
    "    Dense(5, input_shape=(3,), activation='relu'),\n",
    "    Dense(2, activation='softmax'),\n",
    "])"
   ]
  },
  {
   "cell_type": "code",
   "execution_count": null,
   "metadata": {
    "colab": {},
    "colab_type": "code",
    "id": "-EsMdKIq4NgP",
    "outputId": "1b850b60-a421-479e-c105-9d0cd38bc59e"
   },
   "outputs": [
    {
     "data": {
      "text/plain": [
       "<matplotlib.image.AxesImage at 0x7f0b8ba3ac50>"
      ]
     },
     "execution_count": 17,
     "metadata": {
      "tags": []
     },
     "output_type": "execute_result"
    },
    {
     "data": {
      "image/png": "[encoded data removed]",
      "text/plain": [
       "<matplotlib.figure.Figure at 0x7f0b92d936d8>"
      ]
     },
     "metadata": {
      "tags": []
     },
     "output_type": "display_data"
    }
   ],
   "source": [
    "import numpy as np\n",
    "from scipy import ndimage\n",
    "import matplotlib.pyplot as plt\n",
    "%matplotlib inline\n",
    "\n",
    "img = np.expand_dims(ndimage.imread('NN.PNG'),0)\n",
    "plt.imshow(img[0])"
   ]
  },
  {
   "cell_type": "markdown",
   "metadata": {
    "colab_type": "text",
    "collapsed": true,
    "id": "bJDejILY4Ngb"
   },
   "source": [
    "## Activation Functions"
   ]
  },
  {
   "cell_type": "markdown",
   "metadata": {
    "colab_type": "text",
    "collapsed": true,
    "id": "F58PNjGZ4Ngc"
   },
   "source": [
    "In an artificial neural network, the activation function of a neuron defines the output of that neuron given a set of inputs.\n",
    "\n",
    "- The activation function takes the weighted sum of each connection and passed it to an activation function, and transforms it using some calculation. \n",
    " - output = activation(weighted sum of inputs)\n",
    " - One example is sigmoid. The function itself is e^2/e^(x+1). If the input is above 0, the output will be towards one, and vice versa. (show picture of sigmoid function)\n",
    "- Biologically inspired by activity in our brains, where different neurons \n",
    "fire, or are *activated*, by different stimuli. \n",
    " - If you smell something nice, it will fire certain neurons to give you a certain reaction.\n",
    " - Nuerons are either activated (1), or not activated (0). The closer to 1, the more activated, and the closer to 0, the less activated. \n",
    "- Not always (-1, 1). ReLu, a common activation function, is 0 to the input number. \n",
    " - There are many different activation functions. "
   ]
  },
  {
   "cell_type": "markdown",
   "metadata": {},
   "source": [
    "<img src=\"images/sigmoid.png\">"
   ]
  },
  {
   "cell_type": "code",
   "execution_count": null,
   "metadata": {
    "colab": {},
    "colab_type": "code",
    "id": "YYOXgWJH4Ngi"
   },
   "outputs": [],
   "source": [
    "from keras.models import Sequential\n",
    "from keras.layers import Dense, Activation\n",
    "\n",
    "model = Sequential([\n",
    "    Dense(5, input_shape=(3,), activation='relu')\n",
    "])"
   ]
  },
  {
   "cell_type": "code",
   "execution_count": null,
   "metadata": {
    "colab": {},
    "colab_type": "code",
    "id": "x30VKYxE4Ng4"
   },
   "outputs": [],
   "source": [
    "model = Sequential()\n",
    "model.add(Dense(5, input_shape=(3,)))\n",
    "model.add(Activation('relu'))"
   ]
  },
  {
   "cell_type": "markdown",
   "metadata": {},
   "source": [
    "<img src=\"images/relu.png\">"
   ]
  },
  {
   "cell_type": "markdown",
   "metadata": {
    "colab_type": "text",
    "id": "tLlUn0jk4Ng8"
   },
   "source": [
    "### Pre-process data for training\n",
    "Data isn't always going to be given to you in a proper format. You will have to process the data and standarize them, which means make them all the same size, and various other tasks."
   ]
  },
  {
   "cell_type": "code",
   "execution_count": null,
   "metadata": {
    "colab": {},
    "colab_type": "code",
    "id": "Umbmyxws4Ng9"
   },
   "outputs": [],
   "source": [
    "import numpy as np\n",
    "from random import randint\n",
    "from sklearn.preprocessing import MinMaxScaler"
   ]
  },
  {
   "cell_type": "code",
   "execution_count": null,
   "metadata": {
    "colab": {},
    "colab_type": "code",
    "id": "eg85ZSsE4NhB"
   },
   "outputs": [],
   "source": [
    "train_labels =  []\n",
    "train_samples = []"
   ]
  },
  {
   "cell_type": "markdown",
   "metadata": {
    "colab_type": "text",
    "id": "yKiC8Xly4NhJ"
   },
   "source": [
    "Example data: \n",
    "- An experiemental drug was tested on individuals from ages 13 to 100. \n",
    "- The trial had 2100 participants. Half were under 65 years old, half were over 65 years old.\n",
    "- 95% of patientes 65 or older experienced side effects.\n",
    "- 95% of patients under 65 experienced no side effects."
   ]
  },
  {
   "cell_type": "code",
   "execution_count": null,
   "metadata": {
    "colab": {},
    "colab_type": "code",
    "id": "SEHl6cqY4NhL"
   },
   "outputs": [],
   "source": [
    "for i in range(50):\n",
    "    # The 5% of younger individuals who did experience side effects\n",
    "    random_younger = randint(13,64)\n",
    "    train_samples.append(random_younger)\n",
    "    train_labels.append(1)\n",
    "    \n",
    "    # The 5% of older individuals who did not experience side effects\n",
    "    random_older = randint(65,100)\n",
    "    train_samples.append(random_older)\n",
    "    train_labels.append(0)\n",
    "\n",
    "for i in range(1000):\n",
    "    # The 95% of younger individuals who did not experience side effects\n",
    "    random_younger = randint(13,64)\n",
    "    train_samples.append(random_younger)\n",
    "    train_labels.append(0)\n",
    "    \n",
    "    # The 95% of older individuals who did experience side effects\n",
    "    random_older = randint(65,100)\n",
    "    train_samples.append(random_older)\n",
    "    train_labels.append(1)"
   ]
  },
  {
   "cell_type": "code",
   "execution_count": null,
   "metadata": {
    "colab": {},
    "colab_type": "code",
    "id": "sHHB-l9H4NiK"
   },
   "outputs": [],
   "source": [
    "train_labels = np.array(train_labels)\n",
    "train_samples = np.array(train_samples)"
   ]
  },
  {
   "cell_type": "code",
   "execution_count": null,
   "metadata": {
    "colab": {},
    "colab_type": "code",
    "id": "RwxWZGlL4NiR",
    "outputId": "d660fec6-5ffe-4391-d979-bc6227b28a04"
   },
   "outputs": [
    {
     "name": "stderr",
     "output_type": "stream",
     "text": [
      "/home/epoch/anaconda2/envs/fastai34/lib/python3.4/site-packages/sklearn/utils/validation.py:429: DataConversionWarning: Data with input dtype int64 was converted to float64 by MinMaxScaler.\n",
      "  warnings.warn(msg, _DataConversionWarning)\n"
     ]
    }
   ],
   "source": [
    "scaler = MinMaxScaler(feature_range=(0,1))\n",
    "scaled_train_samples = scaler.fit_transform((train_samples).reshape(-1,1))"
   ]
  },
  {
   "cell_type": "code",
   "execution_count": null,
   "metadata": {
    "colab": {},
    "colab_type": "code",
    "id": "f34rR6kR4NiX",
    "outputId": "6a6c1d98-ad5b-4835-9707-b483ea063aea",
    "scrolled": true
   },
   "outputs": [
    {
     "data": {
      "text/plain": [
       "<matplotlib.image.AxesImage at 0x7f0b8b576588>"
      ]
     },
     "execution_count": 45,
     "metadata": {
      "tags": []
     },
     "output_type": "execute_result"
    },
    {
     "data": {
      "image/png": "[encoded data removed]",
      "text/plain": [
       "<matplotlib.figure.Figure at 0x7f0b97af07f0>"
      ]
     },
     "metadata": {
      "tags": []
     },
     "output_type": "display_data"
    }
   ],
   "source": [
    "import numpy as np\n",
    "from scipy import ndimage\n",
    "import matplotlib.pyplot as plt\n",
    "%matplotlib inline\n",
    "\n",
    "img = np.expand_dims(ndimage.imread('NN.PNG'),0)\n",
    "plt.imshow(img[0])"
   ]
  },
  {
   "cell_type": "markdown",
   "metadata": {
    "colab_type": "text",
    "collapsed": true,
    "id": "GJXGu7Cr4Nig"
   },
   "source": [
    "## Training"
   ]
  },
  {
   "cell_type": "markdown",
   "metadata": {
    "colab_type": "text",
    "collapsed": true,
    "id": "m_W-5pEU4Nih"
   },
   "source": [
    "Solving an optimization problem\n",
    " - Optimizing weights\n",
    "  - with Stochastic Gradient Descent (SGD)\n",
    "  - Optimiziers can change the values of the weights based on what it learns. \n",
    "  - The objective is to reduce a loss function. We will talk about this later, but basically we give the model data and labels. If you give it a picture per say, it will predict either 0 or 1, then you tell it the real value, and then it knows how much it needs to change, since it outputs probabilities. \n",
    "  - The loss is the error of what the model is predicting of the image against what it really is, so it knows how and what it has to change to get closer to 0.\n",
    "  - The more data and the more times you give it data, the better it can learn how to change its parameters and weights. It originally starts with completely random weights and changes them progressively. \n",
    "  - The model will then compete the gradient of the loss function, or the derivative(slope) of the variables. \n",
    " - Objective: Minimize the loss function"
   ]
  },
  {
   "cell_type": "markdown",
   "metadata": {},
   "source": [
    "<img src=\"images/SGD.jpeg\">"
   ]
  },
  {
   "cell_type": "markdown",
   "metadata": {
    "colab_type": "text",
    "id": "rUyjCyK84Nih"
   },
   "source": [
    "## Learning"
   ]
  },
  {
   "cell_type": "code",
   "execution_count": null,
   "metadata": {
    "colab": {},
    "colab_type": "code",
    "id": "tfsqfjMq4Nii"
   },
   "outputs": [],
   "source": [
    "import keras\n",
    "from keras import backend as K\n",
    "from keras.models import Sequential\n",
    "from keras.layers import Activation\n",
    "from keras.layers.core import Dense\n",
    "from keras.optimizers import Adam\n",
    "from keras.metrics import categorical_crossentropy"
   ]
  },
  {
   "cell_type": "code",
   "execution_count": null,
   "metadata": {
    "colab": {},
    "colab_type": "code",
    "id": "9dWkbSgt4Nil"
   },
   "outputs": [],
   "source": [
    "model = Sequential([\n",
    "    Dense(16, input_shape=(1,), activation='relu'),\n",
    "    Dense(32, activation='relu'),\n",
    "    Dense(2, activation='sigmoid')\n",
    "])"
   ]
  },
  {
   "cell_type": "code",
   "execution_count": null,
   "metadata": {
    "colab": {},
    "colab_type": "code",
    "id": "9Zhy9oGV4Nio"
   },
   "outputs": [],
   "source": [
    "model.compile(Adam(lr=.0001), loss='sparse_categorical_crossentropy', metrics=['accuracy'])"
   ]
  },
  {
   "cell_type": "code",
   "execution_count": null,
   "metadata": {
    "colab": {},
    "colab_type": "code",
    "id": "VvkusLz34Nir"
   },
   "outputs": [],
   "source": [
    "model.loss = 'sparse_categorical_crossentropy'"
   ]
  },
  {
   "cell_type": "code",
   "execution_count": null,
   "metadata": {
    "colab": {},
    "colab_type": "code",
    "id": "QFQpJl_M4Ni8",
    "outputId": "58160a59-25cd-43e1-a8b1-6149cbbda3ca"
   },
   "outputs": [
    {
     "data": {
      "text/plain": [
       "'sparse_categorical_crossentropy'"
      ]
     },
     "execution_count": 75,
     "metadata": {
      "tags": []
     },
     "output_type": "execute_result"
    }
   ],
   "source": [
    "model.loss"
   ]
  },
  {
   "cell_type": "markdown",
   "metadata": {
    "colab_type": "text",
    "id": "dpa-kUh-4NjY"
   },
   "source": [
    "## Learning Rate\n",
    "\n",
    "A learning rate is just a way of reducing the gradient so it makes incremental and small adjustments. \n",
    "\n",
    "d(loss)/d(weight) * lr(0.001) \n",
    "\n",
    "To reduce your error, you have to take steps. The learning rate is basically the steps. \n",
    "\n",
    "d(loss)/ d(weightValue) * lr(0.001) = y\n",
    "Then you replace that current weight with weight - y. \n",
    "\n",
    "You have to test and tune to find the best learning rate, but the guidlines are to set it between 0.01 and 0.0001. Setting it too high will overshoot and pass the minimum of the loss function. However, with a lower learning rate, it will take a long time to decrease the loss. "
   ]
  },
  {
   "cell_type": "code",
   "execution_count": null,
   "metadata": {
    "colab": {},
    "colab_type": "code",
    "id": "hJBjNRi_4NjZ"
   },
   "outputs": [],
   "source": [
    "model.compile(Adam(lr=0.0001), loss='sparse_categorical_crossentropy', metrics=['accuracy'])"
   ]
  },
  {
   "cell_type": "code",
   "execution_count": null,
   "metadata": {
    "colab": {},
    "colab_type": "code",
    "id": "oPlO5q874Nje"
   },
   "outputs": [],
   "source": [
    "model.optimizer.lr = 0.01"
   ]
  },
  {
   "cell_type": "code",
   "execution_count": null,
   "metadata": {
    "colab": {},
    "colab_type": "code",
    "id": "cb05owh54Njg",
    "outputId": "700015a1-0dc0-42ab-def2-e6f689c46532"
   },
   "outputs": [
    {
     "data": {
      "text/plain": [
       "0.01"
      ]
     },
     "execution_count": 122,
     "metadata": {
      "tags": []
     },
     "output_type": "execute_result"
    }
   ],
   "source": [
    "model.optimizer.lr"
   ]
  },
  {
   "cell_type": "code",
   "execution_count": null,
   "metadata": {
    "colab": {},
    "colab_type": "code",
    "id": "tojX2HZd4Ni_",
    "outputId": "9b1f8da4-7b68-4983-8161-85ed38abdc52"
   },
   "outputs": [
    {
     "name": "stdout",
     "output_type": "stream",
     "text": [
      "Epoch 1/20\n",
      "0s - loss: 0.6400 - acc: 0.5576\n",
      "Epoch 2/20\n",
      "0s - loss: 0.6061 - acc: 0.6310\n",
      "Epoch 3/20\n",
      "0s - loss: 0.5748 - acc: 0.7010\n",
      "Epoch 4/20\n",
      "0s - loss: 0.5401 - acc: 0.7633\n",
      "Epoch 5/20\n",
      "0s - loss: 0.5050 - acc: 0.7990\n",
      "Epoch 6/20\n",
      "0s - loss: 0.4702 - acc: 0.8300\n",
      "Epoch 7/20\n",
      "0s - loss: 0.4366 - acc: 0.8495\n",
      "Epoch 8/20\n",
      "0s - loss: 0.4066 - acc: 0.8767\n",
      "Epoch 9/20\n",
      "0s - loss: 0.3808 - acc: 0.8814\n",
      "Epoch 10/20\n",
      "0s - loss: 0.3596 - acc: 0.8962\n",
      "Epoch 11/20\n",
      "0s - loss: 0.3420 - acc: 0.9043\n",
      "Epoch 12/20\n",
      "0s - loss: 0.3282 - acc: 0.9090\n",
      "Epoch 13/20\n",
      "0s - loss: 0.3170 - acc: 0.9129\n",
      "Epoch 14/20\n",
      "0s - loss: 0.3081 - acc: 0.9210\n",
      "Epoch 15/20\n",
      "0s - loss: 0.3014 - acc: 0.9190\n",
      "Epoch 16/20\n",
      "0s - loss: 0.2959 - acc: 0.9205\n",
      "Epoch 17/20\n",
      "0s - loss: 0.2916 - acc: 0.9238\n",
      "Epoch 18/20\n",
      "0s - loss: 0.2879 - acc: 0.9267\n",
      "Epoch 19/20\n",
      "0s - loss: 0.2848 - acc: 0.9252\n",
      "Epoch 20/20\n",
      "0s - loss: 0.2824 - acc: 0.9286\n"
     ]
    },
    {
     "data": {
      "text/plain": [
       "<keras.callbacks.History at 0x7f0b82249898>"
      ]
     },
     "execution_count": 58,
     "metadata": {
      "tags": []
     },
     "output_type": "execute_result"
    }
   ],
   "source": [
    "model.fit(scaled_train_samples, train_labels, batch_size=10, epochs=20, shuffle=True, verbose=2)"
   ]
  },
  {
   "cell_type": "markdown",
   "metadata": {
    "colab_type": "text",
    "id": "z_HXSDwY_6c-"
   },
   "source": [
    "## Loss\n",
    "An overall loss will be collected, based off the difference between the prediction the model gave and the actual label value. \n",
    "\n",
    "error = output - true\n",
    "= 0.25 - 0 \n",
    "= 0.25 \n",
    "\n",
    "One example is Mean Squared Error(MSE)\n",
    "= square each error for each piece of data, and then average them, and that is the loss. There are lots of different loss functions with different equations and calculations, but they don't really matter right now. "
   ]
  },
  {
   "cell_type": "markdown",
   "metadata": {},
   "source": [
    "<img src=\"images/MSE.png\">"
   ]
  },
  {
   "cell_type": "markdown",
   "metadata": {
    "colab_type": "text",
    "id": "XqPEEJ064NjC"
   },
   "source": [
    "## Data Sets\n",
    "Train, test, and validation sets, all three are part of the entire dataset. \n",
    "\n",
    "A training set is used for the model to learn from. You give it a piece of data, say an image, and it will predict an output, see the label of that output, and then it will learn how it needs to fix it.\n",
    "\n",
    "A validation set is used during each pass of the entire data. Once all the data has been given to the model, based on what it has learned, it will make predictions on new data it didn't see for training. This gives a good gague of the accuracy of the model on data it hasn't seen. The weights of the model will not be updated based on the validation set.\n",
    " - This is used to learn if the model is overfitting or underfitting. \n",
    "\n",
    "The test set is unlabeled, and it is used to determine how your model is doing after it is completely trained. \n",
    " - The idea of a test set is to make sure that the model can predict on data it has never seen before. "
   ]
  },
  {
   "cell_type": "markdown",
   "metadata": {},
   "source": [
    "<img src=\"images/differentSets.png\">"
   ]
  },
  {
   "cell_type": "markdown",
   "metadata": {},
   "source": [
    "<img src=\"images/Test-vs-TrainAcc.png\">"
   ]
  },
  {
   "cell_type": "code",
   "execution_count": null,
   "metadata": {
    "colab": {},
    "colab_type": "code",
    "id": "KNWeLnPb4NjC",
    "outputId": "62a62645-856e-41d1-f2e4-380676d06e65"
   },
   "outputs": [
    {
     "data": {
      "text/plain": [
       "array([[ 0.27586207],\n",
       "       [ 0.87356322],\n",
       "       [ 0.26436782],\n",
       "       ..., \n",
       "       [ 0.96551724],\n",
       "       [ 0.2183908 ],\n",
       "       [ 0.75862069]])"
      ]
     },
     "execution_count": 82,
     "metadata": {
      "tags": []
     },
     "output_type": "execute_result"
    }
   ],
   "source": [
    "scaled_train_samples"
   ]
  },
  {
   "cell_type": "markdown",
   "metadata": {},
   "source": [
    "This is an array of data, they are converted into decimals"
   ]
  },
  {
   "cell_type": "code",
   "execution_count": null,
   "metadata": {
    "colab": {},
    "colab_type": "code",
    "id": "PcE4Q3X14NjF",
    "outputId": "3ef88a08-1c3d-4f4d-8cbd-28df0817bccf"
   },
   "outputs": [
    {
     "data": {
      "text/plain": [
       "array([1, 0, 1, ..., 1, 0, 1])"
      ]
     },
     "execution_count": 83,
     "metadata": {
      "tags": []
     },
     "output_type": "execute_result"
    }
   ],
   "source": [
    "train_labels"
   ]
  },
  {
   "cell_type": "markdown",
   "metadata": {},
   "source": [
    "This is a binary classification problem. 1 means a positive label and 0 means a negative label."
   ]
  },
  {
   "cell_type": "code",
   "execution_count": null,
   "metadata": {
    "colab": {},
    "colab_type": "code",
    "id": "ABEK7Bkg4NjI",
    "outputId": "ccb08682-cdd7-4cba-9cda-da91540989ac"
   },
   "outputs": [
    {
     "name": "stdout",
     "output_type": "stream",
     "text": [
      "Train on 1680 samples, validate on 420 samples\n",
      "Epoch 1/20\n",
      "0s - loss: 0.6994 - acc: 0.4970 - val_loss: 0.6960 - val_acc: 0.5000\n",
      "Epoch 2/20\n",
      "0s - loss: 0.6906 - acc: 0.5774 - val_loss: 0.6815 - val_acc: 0.6952\n",
      "Epoch 3/20\n",
      "0s - loss: 0.6754 - acc: 0.7179 - val_loss: 0.6613 - val_acc: 0.7857\n",
      "Epoch 4/20\n",
      "0s - loss: 0.6548 - acc: 0.7720 - val_loss: 0.6341 - val_acc: 0.8333\n",
      "Epoch 5/20\n",
      "0s - loss: 0.6296 - acc: 0.7958 - val_loss: 0.6001 - val_acc: 0.8571\n",
      "Epoch 6/20\n",
      "0s - loss: 0.5951 - acc: 0.8161 - val_loss: 0.5516 - val_acc: 0.8714\n",
      "Epoch 7/20\n",
      "0s - loss: 0.5545 - acc: 0.8250 - val_loss: 0.5004 - val_acc: 0.8881\n",
      "Epoch 8/20\n",
      "0s - loss: 0.5091 - acc: 0.8446 - val_loss: 0.4400 - val_acc: 0.9119\n",
      "Epoch 9/20\n",
      "0s - loss: 0.4637 - acc: 0.8726 - val_loss: 0.3886 - val_acc: 0.9310\n",
      "Epoch 10/20\n",
      "0s - loss: 0.4283 - acc: 0.8798 - val_loss: 0.3454 - val_acc: 0.9381\n",
      "Epoch 11/20\n",
      "0s - loss: 0.3997 - acc: 0.8863 - val_loss: 0.3096 - val_acc: 0.9524\n",
      "Epoch 12/20\n",
      "0s - loss: 0.3776 - acc: 0.8917 - val_loss: 0.2805 - val_acc: 0.9524\n",
      "Epoch 13/20\n",
      "0s - loss: 0.3602 - acc: 0.8988 - val_loss: 0.2572 - val_acc: 0.9643\n",
      "Epoch 14/20\n",
      "0s - loss: 0.3467 - acc: 0.9083 - val_loss: 0.2369 - val_acc: 0.9643\n",
      "Epoch 15/20\n",
      "0s - loss: 0.3364 - acc: 0.9113 - val_loss: 0.2214 - val_acc: 0.9643\n",
      "Epoch 16/20\n",
      "0s - loss: 0.3288 - acc: 0.9119 - val_loss: 0.2083 - val_acc: 0.9714\n",
      "Epoch 17/20\n",
      "0s - loss: 0.3227 - acc: 0.9155 - val_loss: 0.1971 - val_acc: 0.9643\n",
      "Epoch 18/20\n",
      "0s - loss: 0.3182 - acc: 0.9137 - val_loss: 0.1889 - val_acc: 0.9786\n",
      "Epoch 19/20\n",
      "0s - loss: 0.3144 - acc: 0.9167 - val_loss: 0.1809 - val_acc: 0.9714\n",
      "Epoch 20/20\n",
      "0s - loss: 0.3115 - acc: 0.9161 - val_loss: 0.1749 - val_acc: 0.9714\n"
     ]
    },
    {
     "data": {
      "text/plain": [
       "<keras.callbacks.History at 0x7f0b7ec2ee10>"
      ]
     },
     "execution_count": 84,
     "metadata": {
      "tags": []
     },
     "output_type": "execute_result"
    }
   ],
   "source": [
    "model.fit(scaled_train_samples, train_labels, validation_split = 0.20, batch_size=10, \n",
    "          epochs=20, shuffle=True, verbose=2)"
   ]
  },
  {
   "cell_type": "code",
   "execution_count": null,
   "metadata": {
    "colab": {},
    "colab_type": "code",
    "id": "BAo2cZw74NjK"
   },
   "outputs": [],
   "source": [
    "valid_set = [(sample, label), (sample, label), ... , (sample, label)]"
   ]
  },
  {
   "cell_type": "code",
   "execution_count": null,
   "metadata": {
    "colab": {},
    "colab_type": "code",
    "id": "zSEVCgZF4NjN"
   },
   "outputs": [],
   "source": [
    "model.fit(scaled_train_samples, train_labels, validation_data = valid_set, batch_size=10, \n",
    "          epochs=20, shuffle=True, verbose=2)"
   ]
  },
  {
   "cell_type": "markdown",
   "metadata": {
    "colab_type": "text",
    "collapsed": true,
    "id": "4z-S3cqj4Njp"
   },
   "source": [
    "## Predicting"
   ]
  },
  {
   "cell_type": "code",
   "execution_count": null,
   "metadata": {
    "colab": {},
    "colab_type": "code",
    "id": "xFD779X64Njp"
   },
   "outputs": [],
   "source": [
    "import keras\n",
    "from keras import backend as K\n",
    "from keras.models import Sequential\n",
    "from keras.layers import Activation\n",
    "from keras.layers.core import Dense\n",
    "from keras.optimizers import Adam\n",
    "from keras.metrics import categorical_crossentropy"
   ]
  },
  {
   "cell_type": "code",
   "execution_count": null,
   "metadata": {
    "colab": {},
    "colab_type": "code",
    "id": "_v6QW8ti4Njs"
   },
   "outputs": [],
   "source": [
    "model = Sequential([\n",
    "    Dense(16, input_shape=(1,), activation='relu'),\n",
    "    Dense(32, activation='relu'),\n",
    "    Dense(2, activation='sigmoid')\n",
    "])"
   ]
  },
  {
   "cell_type": "code",
   "execution_count": null,
   "metadata": {
    "colab": {},
    "colab_type": "code",
    "id": "jYg5KIqG4Njx"
   },
   "outputs": [],
   "source": [
    "model.compile(Adam(lr=.0001), loss='sparse_categorical_crossentropy', metrics=['accuracy'])"
   ]
  },
  {
   "cell_type": "code",
   "execution_count": null,
   "metadata": {
    "colab": {},
    "colab_type": "code",
    "id": "-0ddHRD94Nj0",
    "outputId": "c1ee8088-5773-42f8-8f5d-d69ea98d0c57"
   },
   "outputs": [
    {
     "name": "stdout",
     "output_type": "stream",
     "text": [
      "Epoch 1/20\n",
      "0s - loss: 0.6933 - acc: 0.6419\n",
      "Epoch 2/20\n",
      "0s - loss: 0.6710 - acc: 0.7857\n",
      "Epoch 3/20\n",
      "0s - loss: 0.6397 - acc: 0.8443\n",
      "Epoch 4/20\n",
      "0s - loss: 0.6061 - acc: 0.8476\n",
      "Epoch 5/20\n",
      "0s - loss: 0.5678 - acc: 0.8505\n",
      "Epoch 6/20\n",
      "0s - loss: 0.5228 - acc: 0.8600\n",
      "Epoch 7/20\n",
      "0s - loss: 0.4681 - acc: 0.8733\n",
      "Epoch 8/20\n",
      "0s - loss: 0.4105 - acc: 0.8962\n",
      "Epoch 9/20\n",
      "0s - loss: 0.3670 - acc: 0.9119\n",
      "Epoch 10/20\n",
      "0s - loss: 0.3329 - acc: 0.9167\n",
      "Epoch 11/20\n",
      "0s - loss: 0.3100 - acc: 0.9243\n",
      "Epoch 12/20\n",
      "0s - loss: 0.2925 - acc: 0.9271\n",
      "Epoch 13/20\n",
      "0s - loss: 0.2820 - acc: 0.9300\n",
      "Epoch 14/20\n",
      "0s - loss: 0.2757 - acc: 0.9338\n",
      "Epoch 15/20\n",
      "0s - loss: 0.2712 - acc: 0.9319\n",
      "Epoch 16/20\n",
      "0s - loss: 0.2681 - acc: 0.9381\n",
      "Epoch 17/20\n",
      "0s - loss: 0.2655 - acc: 0.9376\n",
      "Epoch 18/20\n",
      "0s - loss: 0.2634 - acc: 0.9352\n",
      "Epoch 19/20\n",
      "0s - loss: 0.2618 - acc: 0.9390\n",
      "Epoch 20/20\n",
      "0s - loss: 0.2603 - acc: 0.9352\n"
     ]
    },
    {
     "data": {
      "text/plain": [
       "<keras.callbacks.History at 0x7fa8f1d9fb38>"
      ]
     },
     "execution_count": 65,
     "metadata": {
      "tags": []
     },
     "output_type": "execute_result"
    }
   ],
   "source": [
    "model.fit(scaled_train_samples, train_labels, batch_size=10, epochs=20, shuffle=True, verbose=2)"
   ]
  },
  {
   "cell_type": "code",
   "execution_count": null,
   "metadata": {
    "colab": {},
    "colab_type": "code",
    "id": "f19J0khe4Nj4",
    "outputId": "ed97980d-9bee-449b-bf4d-3ed3bcef4626"
   },
   "outputs": [
    {
     "name": "stderr",
     "output_type": "stream",
     "text": [
      "/home/epoch/anaconda2/envs/fastai34/lib/python3.4/site-packages/sklearn/utils/validation.py:429: DataConversionWarning: Data with input dtype int64 was converted to float64 by MinMaxScaler.\n",
      "  warnings.warn(msg, _DataConversionWarning)\n"
     ]
    }
   ],
   "source": [
    "# Preprocess test data\n",
    "\n",
    "test_labels =  []\n",
    "test_samples = []\n",
    "\n",
    "for i in range(10):\n",
    "    # The 5% of younger individuals who did experience side effects\n",
    "    random_younger = randint(13,64)\n",
    "    test_samples.append(random_younger)\n",
    "    test_labels.append(1)\n",
    "    \n",
    "    # The 5% of older individuals who did not experience side effects\n",
    "    random_older = randint(65,100)\n",
    "    test_samples.append(random_older)\n",
    "    test_labels.append(0)\n",
    "\n",
    "for i in range(200):\n",
    "    # The 95% of younger individuals who did not experience side effects\n",
    "    random_younger = randint(13,64)\n",
    "    test_samples.append(random_younger)\n",
    "    test_labels.append(0)\n",
    "    \n",
    "    # The 95% of older individuals who did experience side effects\n",
    "    random_older = randint(65,100)\n",
    "    test_samples.append(random_older)\n",
    "    test_labels.append(1)\n",
    "    \n",
    "test_labels = np.array(test_labels)\n",
    "test_samples = np.array(test_samples)\n",
    "\n",
    "scaler = MinMaxScaler(feature_range=(0,1))\n",
    "scaled_test_samples = scaler.fit_transform((test_samples).reshape(-1,1))"
   ]
  },
  {
   "cell_type": "code",
   "execution_count": null,
   "metadata": {
    "colab": {},
    "colab_type": "code",
    "id": "AzoRNo7N4Nj9"
   },
   "outputs": [],
   "source": [
    "predictions = model.predict(scaled_test_samples, batch_size=10, verbose=0) "
   ]
  },
  {
   "cell_type": "code",
   "execution_count": null,
   "metadata": {
    "colab": {},
    "colab_type": "code",
    "id": "Isab4zd64NkB",
    "outputId": "ad0bbf2c-bbf3-4a45-a1ee-9370651989d5"
   },
   "outputs": [
    {
     "name": "stdout",
     "output_type": "stream",
     "text": [
      "[ 0.28293326  0.35764667]\n",
      "[ 0.26525486  0.37844887]\n",
      "[ 0.85707456  0.04403995]\n",
      "[ 0.0979089   0.67903334]\n",
      "[ 0.87152088  0.04061354]\n",
      "[ 0.04943148  0.85192239]\n",
      "[ 0.880009   0.0379883]\n",
      "[ 0.12007324  0.61951774]\n",
      "[ 0.64052224  0.10959   ]\n",
      "[ 0.13958886  0.5766331 ]\n",
      "[ 0.82027066  0.0517699 ]\n",
      "[ 0.04943148  0.85192239]\n",
      "[ 0.87042195  0.04095384]\n",
      "[ 0.23208363  0.42135212]\n",
      "[ 0.77739257  0.06212683]\n",
      "[ 0.23208363  0.42135212]\n",
      "[ 0.8121165   0.05363343]\n",
      "[ 0.06808709  0.7811752 ]\n",
      "[ 0.85707456  0.04403995]\n",
      "[ 0.0430468   0.87568933]\n",
      "[ 0.880009   0.0379883]\n",
      "[ 0.18797709  0.48778817]\n",
      "[ 0.83300829  0.04906356]\n",
      "[ 0.07451599  0.7569769 ]\n",
      "[ 0.32034045  0.31766897]\n",
      "[ 0.24829839  0.39970824]\n",
      "[ 0.85979176  0.04345375]\n",
      "[ 0.09193034  0.69722801]\n",
      "[ 0.87477005  0.0396088 ]\n",
      "[ 0.10429112  0.66016704]\n",
      "[ 0.42364404  0.22938529]\n",
      "[ 0.21662255  0.44330263]\n",
      "[ 0.84821194  0.04590416]\n",
      "[ 0.0430468   0.87568933]\n",
      "[ 0.82027066  0.0517699 ]\n",
      "[ 0.06808709  0.7811752 ]\n",
      "[ 0.87042195  0.04095384]\n",
      "[ 0.04120404  0.88207549]\n",
      "[ 0.86930537  0.04130033]\n",
      "[ 0.20192057  0.46547687]\n",
      "[ 0.64052224  0.10959   ]\n",
      "[ 0.04120404  0.88207549]\n",
      "[ 0.87477005  0.0396088 ]\n",
      "[ 0.04943148  0.85192239]\n",
      "[ 0.87152088  0.04061354]\n",
      "[ 0.26525486  0.37844887]\n",
      "[ 0.87583733  0.03927922]\n",
      "[ 0.05176451  0.84311408]\n",
      "[ 0.84821194  0.04590416]\n",
      "[ 0.13958886  0.5766331 ]\n",
      "[ 0.40210381  0.24557945]\n",
      "[ 0.18797709  0.48778817]\n",
      "[ 0.67980295  0.09405305]\n",
      "[ 0.03638967  0.89756322]\n",
      "[ 0.87152088  0.04061354]\n",
      "[ 0.04719836  0.86031818]\n",
      "[ 0.82027066  0.0517699 ]\n",
      "[ 0.0430468   0.87568933]\n",
      "[ 0.8768968   0.03895227]\n",
      "[ 0.13958886  0.5766331 ]\n",
      "[ 0.36020902  0.28021055]\n",
      "[ 0.07808454  0.74381268]\n",
      "[ 0.87794852  0.03862793]\n",
      "[ 0.21662255  0.44330263]\n",
      "[ 0.46752542  0.1992964 ]\n",
      "[ 0.05420133  0.83388394]\n",
      "[ 0.87152088  0.04061354]\n",
      "[ 0.13958886  0.5766331 ]\n",
      "[ 0.7155025   0.08153573]\n",
      "[ 0.0594027   0.81412745]\n",
      "[ 0.36020902  0.28021055]\n",
      "[ 0.16233467  0.53246796]\n",
      "[ 0.86509645  0.04230364]\n",
      "[ 0.09193034  0.69722801]\n",
      "[ 0.87477005  0.0396088 ]\n",
      "[ 0.24829839  0.39970824]\n",
      "[ 0.64052224  0.10959   ]\n",
      "[ 0.06217557  0.80358917]\n",
      "[ 0.83300829  0.04906356]\n",
      "[ 0.21662255  0.44330263]\n",
      "[ 0.40210381  0.24557945]\n",
      "[ 0.08204049  0.72956663]\n",
      "[ 0.76366335  0.06596307]\n",
      "[ 0.05674605  0.82422394]\n",
      "[ 0.87042195  0.04095384]\n",
      "[ 0.0430468   0.87568933]\n",
      "[ 0.86246562  0.04287501]\n",
      "[ 0.07808454  0.74381268]\n",
      "[ 0.87152088  0.04061354]\n",
      "[ 0.04120404  0.88207549]\n",
      "[ 0.32034045  0.31766897]\n",
      "[ 0.0430468   0.87568933]\n",
      "[ 0.83300829  0.04906356]\n",
      "[ 0.18797709  0.48778817]\n",
      "[ 0.87583733  0.03927922]\n",
      "[ 0.0594027   0.81412745]\n",
      "[ 0.83300829  0.04906356]\n",
      "[ 0.20192057  0.46547687]\n",
      "[ 0.62010962  0.11817335]\n",
      "[ 0.13958886  0.5766331 ]\n",
      "[ 0.55611736  0.14823376]\n",
      "[ 0.23208363  0.42135212]\n",
      "[ 0.87042195  0.04095384]\n",
      "[ 0.08658814  0.71420431]\n",
      "[ 0.30130684  0.33736712]\n",
      "[ 0.05176451  0.84311408]\n",
      "[ 0.84330875  0.04692649]\n",
      "[ 0.21662255  0.44330263]\n",
      "[ 0.87042195  0.04095384]\n",
      "[ 0.16233467  0.53246796]\n",
      "[ 0.42364404  0.22938529]\n",
      "[ 0.03793108  0.89261192]\n",
      "[ 0.84821194  0.04590416]\n",
      "[ 0.16233467  0.53246796]\n",
      "[ 0.84821194  0.04590416]\n",
      "[ 0.0430468   0.87568933]\n",
      "[ 0.36020902  0.28021055]\n",
      "[ 0.21662255  0.44330263]\n",
      "[ 0.7485773   0.07064888]\n",
      "[ 0.0594027   0.81412745]\n",
      "[ 0.59926307  0.12733285]\n",
      "[ 0.23208363  0.42135212]\n",
      "[ 0.87477005  0.0396088 ]\n",
      "[ 0.04120404  0.88207549]\n",
      "[ 0.48969987  0.18540421]\n",
      "[ 0.05176451  0.84311408]\n",
      "[ 0.87477005  0.0396088 ]\n",
      "[ 0.08204049  0.72956663]\n",
      "[ 0.82027066  0.0517699 ]\n",
      "[ 0.0594027   0.81412745]\n",
      "[ 0.32034045  0.31766897]\n",
      "[ 0.09193034  0.69722801]\n",
      "[ 0.80109262  0.05631671]\n",
      "[ 0.05420133  0.83388394]\n",
      "[ 0.7155025   0.08153573]\n",
      "[ 0.12007324  0.61951774]\n",
      "[ 0.87794852  0.03862793]\n",
      "[ 0.07808454  0.74381268]\n",
      "[ 0.87794852  0.03862793]\n",
      "[ 0.05420133  0.83388394]\n",
      "[ 0.86930537  0.04130033]\n",
      "[ 0.0594027   0.81412745]\n",
      "[ 0.77739257  0.06212683]\n",
      "[ 0.05674605  0.82422394]\n",
      "[ 0.85979176  0.04345375]\n",
      "[ 0.21662255  0.44330263]\n",
      "[ 0.78949356  0.05915147]\n",
      "[ 0.03793108  0.89261192]\n",
      "[ 0.40210381  0.24557945]\n",
      "[ 0.10429112  0.66016704]\n",
      "[ 0.48969987  0.18540421]\n",
      "[ 0.09193034  0.69722801]\n",
      "[ 0.83827734  0.04797048]\n",
      "[ 0.04120404  0.88207549]\n",
      "[ 0.66043848  0.10155829]\n",
      "[ 0.06217557  0.80358917]\n",
      "[ 0.78949356  0.05915147]\n",
      "[ 0.04719836  0.86031818]\n",
      "[ 0.8736949   0.03994104]\n",
      "[ 0.12925252  0.59830874]\n",
      "[ 0.64052224  0.10959   ]\n",
      "[ 0.0979089   0.67903334]\n",
      "[ 0.85298848  0.04490304]\n",
      "[ 0.26525486  0.37844887]\n",
      "[ 0.40210381  0.24557945]\n",
      "[ 0.06217557  0.80358917]\n",
      "[ 0.36020902  0.28021055]\n",
      "[ 0.03953509  0.88745135]\n",
      "[ 0.86930537  0.04130033]\n",
      "[ 0.1117581   0.64022535]\n",
      "[ 0.82682848  0.05037352]\n",
      "[ 0.16233467  0.53246796]\n",
      "[ 0.48969987  0.18540421]\n",
      "[ 0.06506889  0.7926057 ]\n",
      "[ 0.82027066  0.0517699 ]\n",
      "[ 0.05674605  0.82422394]\n",
      "[ 0.76366335  0.06596307]\n",
      "[ 0.04719836  0.86031818]\n",
      "[ 0.85979176  0.04345375]\n",
      "[ 0.12007324  0.61951774]\n",
      "[ 0.8768968   0.03895227]\n",
      "[ 0.07451599  0.7569769 ]\n",
      "[ 0.55611736  0.14823376]\n",
      "[ 0.04943148  0.85192239]\n",
      "[ 0.55611736  0.14823376]\n",
      "[ 0.0430468   0.87568933]\n",
      "[ 0.33999148  0.29860252]\n",
      "[ 0.03793108  0.89261192]\n",
      "[ 0.86509645  0.04230364]\n",
      "[ 0.23208363  0.42135212]\n",
      "[ 0.4454785   0.21395613]\n",
      "[ 0.08204049  0.72956663]\n",
      "[ 0.82682848  0.05037352]\n",
      "[ 0.24829839  0.39970824]\n",
      "[ 0.86246562  0.04287501]\n",
      "[ 0.21662255  0.44330263]\n",
      "[ 0.87898576  0.03830663]\n",
      "[ 0.0979089   0.67903334]\n",
      "[ 0.82682848  0.05037352]\n",
      "[ 0.08204049  0.72956663]\n",
      "[ 0.880009   0.0379883]\n",
      "[ 0.07808454  0.74381268]\n",
      "[ 0.33999148  0.29860252]\n",
      "[ 0.03793108  0.89261192]\n",
      "[ 0.82027066  0.0517699 ]\n",
      "[ 0.0594027   0.81412745]\n",
      "[ 0.87042195  0.04095384]\n",
      "[ 0.13958886  0.5766331 ]\n",
      "[ 0.87261182  0.04027594]\n",
      "[ 0.05674605  0.82422394]\n",
      "[ 0.78949356  0.05915147]\n",
      "[ 0.09193034  0.69722801]\n",
      "[ 0.38093486  0.26252744]\n",
      "[ 0.12007324  0.61951774]\n",
      "[ 0.87583733  0.03927922]\n",
      "[ 0.0979089   0.67903334]\n",
      "[ 0.8768968   0.03895227]\n",
      "[ 0.04719836  0.86031818]\n",
      "[ 0.8676846   0.04173953]\n",
      "[ 0.05420133  0.83388394]\n",
      "[ 0.55611736  0.14823376]\n",
      "[ 0.06217557  0.80358917]\n",
      "[ 0.42364404  0.22938529]\n",
      "[ 0.21662255  0.44330263]\n",
      "[ 0.76366335  0.06596307]\n",
      "[ 0.05674605  0.82422394]\n",
      "[ 0.880009   0.0379883]\n",
      "[ 0.24829839  0.39970824]\n",
      "[ 0.83827734  0.04797048]\n",
      "[ 0.12925252  0.59830874]\n",
      "[ 0.36020902  0.28021055]\n",
      "[ 0.08204049  0.72956663]\n",
      "[ 0.86509645  0.04230364]\n",
      "[ 0.04506137  0.86831146]\n",
      "[ 0.87261182  0.04027594]\n",
      "[ 0.04506137  0.86831146]\n",
      "[ 0.86509645  0.04230364]\n",
      "[ 0.17478551  0.51014841]\n",
      "[ 0.7155025   0.08153573]\n",
      "[ 0.0430468   0.87568933]\n",
      "[ 0.33999148  0.29860252]\n",
      "[ 0.07808454  0.74381268]\n",
      "[ 0.8736949   0.03994104]\n",
      "[ 0.0594027   0.81412745]\n",
      "[ 0.4454785   0.21395613]\n",
      "[ 0.12925252  0.59830874]\n",
      "[ 0.85707456  0.04403995]\n",
      "[ 0.0430468   0.87568933]\n",
      "[ 0.67980295  0.09405305]\n",
      "[ 0.18797709  0.48778817]\n",
      "[ 0.62010962  0.11817335]\n",
      "[ 0.03953509  0.88745135]\n",
      "[ 0.62010962  0.11817335]\n",
      "[ 0.05420133  0.83388394]\n",
      "[ 0.80109262  0.05631671]\n",
      "[ 0.09193034  0.69722801]\n",
      "[ 0.85298848  0.04490304]\n",
      "[ 0.20192057  0.46547687]\n",
      "[ 0.83300829  0.04906356]\n",
      "[ 0.10429112  0.66016704]\n",
      "[ 0.62010962  0.11817335]\n",
      "[ 0.06506889  0.7926057 ]\n",
      "[ 0.55611736  0.14823376]\n",
      "[ 0.04506137  0.86831146]\n",
      "[ 0.85707456  0.04403995]\n",
      "[ 0.04506137  0.86831146]\n",
      "[ 0.55611736  0.14823376]\n",
      "[ 0.06808709  0.7811752 ]\n",
      "[ 0.8768968   0.03895227]\n",
      "[ 0.08204049  0.72956663]\n",
      "[ 0.64052224  0.10959   ]\n",
      "[ 0.07451599  0.7569769 ]\n",
      "[ 0.8736949   0.03994104]\n",
      "[ 0.0430468   0.87568933]\n",
      "[ 0.76366335  0.06596307]\n",
      "[ 0.06808709  0.7811752 ]\n",
      "[ 0.69801664  0.08753506]\n",
      "[ 0.05674605  0.82422394]\n",
      "[ 0.4454785   0.21395613]\n",
      "[ 0.04719836  0.86031818]\n",
      "[ 0.87152088  0.04061354]\n",
      "[ 0.03638967  0.89756322]\n",
      "[ 0.85979176  0.04345375]\n",
      "[ 0.15060882  0.55465847]\n",
      "[ 0.83827734  0.04797048]\n",
      "[ 0.18797709  0.48778817]\n",
      "[ 0.87477005  0.0396088 ]\n",
      "[ 0.10429112  0.66016704]\n",
      "[ 0.32034045  0.31766897]\n",
      "[ 0.03953509  0.88745135]\n",
      "[ 0.8736949   0.03994104]\n",
      "[ 0.20192057  0.46547687]\n",
      "[ 0.732364    0.07591337]\n",
      "[ 0.03793108  0.89261192]\n",
      "[ 0.880009   0.0379883]\n",
      "[ 0.1117581   0.64022535]\n",
      "[ 0.85707456  0.04403995]\n",
      "[ 0.04943148  0.85192239]\n",
      "[ 0.87794852  0.03862793]\n",
      "[ 0.0430468   0.87568933]\n",
      "[ 0.732364    0.07591337]\n",
      "[ 0.05420133  0.83388394]\n",
      "[ 0.83827734  0.04797048]\n",
      "[ 0.16233467  0.53246796]\n",
      "[ 0.880009   0.0379883]\n",
      "[ 0.07451599  0.7569769 ]\n",
      "[ 0.732364    0.07591337]\n",
      "[ 0.20192057  0.46547687]\n",
      "[ 0.87152088  0.04061354]\n",
      "[ 0.03638967  0.89756322]\n",
      "[ 0.8768968   0.03895227]\n",
      "[ 0.07808454  0.74381268]\n",
      "[ 0.87152088  0.04061354]\n",
      "[ 0.03953509  0.88745135]\n",
      "[ 0.83827734  0.04797048]\n",
      "[ 0.0979089   0.67903334]\n",
      "[ 0.53408301  0.15988748]\n",
      "[ 0.03793108  0.89261192]\n",
      "[ 0.77739257  0.06212683]\n",
      "[ 0.24829839  0.39970824]\n",
      "[ 0.48969987  0.18540421]\n",
      "[ 0.04120404  0.88207549]\n",
      "[ 0.85979176  0.04345375]\n",
      "[ 0.0430468   0.87568933]\n",
      "[ 0.7485773   0.07064888]\n",
      "[ 0.23208363  0.42135212]\n",
      "[ 0.87583733  0.03927922]\n",
      "[ 0.06808709  0.7811752 ]\n",
      "[ 0.84330875  0.04692649]\n",
      "[ 0.12925252  0.59830874]\n",
      "[ 0.28293326  0.35764667]\n",
      "[ 0.04943148  0.85192239]\n",
      "[ 0.86246562  0.04287501]\n",
      "[ 0.03793108  0.89261192]\n",
      "[ 0.46752542  0.1992964 ]\n",
      "[ 0.0430468   0.87568933]\n",
      "[ 0.38093486  0.26252744]\n",
      "[ 0.03953509  0.88745135]\n",
      "[ 0.87477005  0.0396088 ]\n",
      "[ 0.23208363  0.42135212]\n",
      "[ 0.87261182  0.04027594]\n",
      "[ 0.0594027   0.81412745]\n",
      "[ 0.82027066  0.0517699 ]\n",
      "[ 0.12925252  0.59830874]\n",
      "[ 0.7155025   0.08153573]\n",
      "[ 0.03638967  0.89756322]\n",
      "[ 0.86930537  0.04130033]\n",
      "[ 0.12007324  0.61951774]\n",
      "[ 0.53408301  0.15988748]\n",
      "[ 0.21662255  0.44330263]\n",
      "[ 0.7155025   0.08153573]\n",
      "[ 0.07808454  0.74381268]\n",
      "[ 0.67980295  0.09405305]\n",
      "[ 0.05674605  0.82422394]\n",
      "[ 0.84821194  0.04590416]\n",
      "[ 0.0979089   0.67903334]\n",
      "[ 0.84821194  0.04590416]\n",
      "[ 0.05176451  0.84311408]\n",
      "[ 0.87042195  0.04095384]\n",
      "[ 0.20192057  0.46547687]\n",
      "[ 0.67980295  0.09405305]\n",
      "[ 0.18797709  0.48778817]\n",
      "[ 0.85298848  0.04490304]\n",
      "[ 0.0430468   0.87568933]\n",
      "[ 0.77739257  0.06212683]\n",
      "[ 0.0594027   0.81412745]\n",
      "[ 0.36020902  0.28021055]\n",
      "[ 0.24829839  0.39970824]\n",
      "[ 0.84330875  0.04692649]\n",
      "[ 0.26525486  0.37844887]\n",
      "[ 0.40210381  0.24557945]\n",
      "[ 0.06506889  0.7926057 ]\n",
      "[ 0.86509645  0.04230364]\n",
      "[ 0.0594027   0.81412745]\n",
      "[ 0.30130684  0.33736712]\n",
      "[ 0.23208363  0.42135212]\n",
      "[ 0.36020902  0.28021055]\n",
      "[ 0.04506137  0.86831146]\n",
      "[ 0.82027066  0.0517699 ]\n",
      "[ 0.06808709  0.7811752 ]\n",
      "[ 0.48969987  0.18540421]\n",
      "[ 0.05420133  0.83388394]\n",
      "[ 0.4454785   0.21395613]\n",
      "[ 0.08204049  0.72956663]\n",
      "[ 0.32034045  0.31766897]\n",
      "[ 0.0430468   0.87568933]\n",
      "[ 0.880009   0.0379883]\n",
      "[ 0.23208363  0.42135212]\n",
      "[ 0.8121165   0.05363343]\n",
      "[ 0.08658814  0.71420431]\n",
      "[ 0.51191491  0.17227209]\n",
      "[ 0.17478551  0.51014841]\n",
      "[ 0.8121165   0.05363343]\n",
      "[ 0.04120404  0.88207549]\n",
      "[ 0.880009   0.0379883]\n",
      "[ 0.08204049  0.72956663]\n",
      "[ 0.87898576  0.03830663]\n",
      "[ 0.03793108  0.89261192]\n",
      "[ 0.87042195  0.04095384]\n",
      "[ 0.06217557  0.80358917]\n",
      "[ 0.82682848  0.05037352]\n",
      "[ 0.12007324  0.61951774]\n",
      "[ 0.77739257  0.06212683]\n",
      "[ 0.04719836  0.86031818]\n",
      "[ 0.84330875  0.04692649]\n",
      "[ 0.06506889  0.7926057 ]\n",
      "[ 0.87898576  0.03830663]\n",
      "[ 0.07808454  0.74381268]\n",
      "[ 0.8736949   0.03994104]\n",
      "[ 0.07123458  0.76929814]\n",
      "[ 0.33999148  0.29860252]\n",
      "[ 0.0430468   0.87568933]\n",
      "[ 0.85707456  0.04403995]\n",
      "[ 0.07808454  0.74381268]\n",
      "[ 0.83827734  0.04797048]\n",
      "[ 0.04506137  0.86831146]\n",
      "[ 0.85298848  0.04490304]\n",
      "[ 0.07123458  0.76929814]\n",
      "[ 0.42364404  0.22938529]\n",
      "[ 0.17478551  0.51014841]\n"
     ]
    }
   ],
   "source": [
    "for i in predictions:\n",
    "    print(i)"
   ]
  },
  {
   "cell_type": "markdown",
   "metadata": {
    "colab_type": "text",
    "id": "gBtVwDZt4NjR"
   },
   "source": [
    "## Regularization"
   ]
  },
  {
   "cell_type": "code",
   "execution_count": null,
   "metadata": {
    "colab": {},
    "colab_type": "code",
    "id": "TZ4NdnCW4NjT"
   },
   "outputs": [],
   "source": [
    "import keras\n",
    "from keras import backend as K\n",
    "from keras.models import Sequential\n",
    "from keras.layers import Activation\n",
    "from keras.layers.core import Dense\n",
    "from keras.optimizers import Adam\n",
    "from keras import regularizers"
   ]
  },
  {
   "cell_type": "code",
   "execution_count": null,
   "metadata": {
    "colab": {},
    "colab_type": "code",
    "id": "iCada53s4NjW"
   },
   "outputs": [],
   "source": [
    "model = Sequential([\n",
    "    Dense(16, input_shape=(1,), activation='relu'),\n",
    "    Dense(32, activation='relu', kernel_regularizer=regularizers.l2(0.01)),\n",
    "    Dense(2, activation='sigmoid')\n",
    "])"
   ]
  },
  {
   "cell_type": "markdown",
   "metadata": {
    "colab_type": "text",
    "id": "G1PNgBXk4Njm"
   },
   "source": [
    "## Batch Size"
   ]
  },
  {
   "cell_type": "code",
   "execution_count": null,
   "metadata": {
    "colab": {},
    "colab_type": "code",
    "collapsed": true,
    "id": "84NxZ7CO4Njm"
   },
   "outputs": [],
   "source": [
    "model.fit(scaled_train_samples, train_labels, validation_data = valid_set, batch_size=10, \n",
    "          epochs=20, shuffle=True, verbose=2)"
   ]
  },
  {
   "cell_type": "markdown",
   "metadata": {
    "colab_type": "text",
    "id": "cjA42ozm4NkT"
   },
   "source": [
    "## Supervised Learning"
   ]
  },
  {
   "cell_type": "code",
   "execution_count": null,
   "metadata": {
    "colab": {},
    "colab_type": "code",
    "id": "9HQfI7DH4NkT"
   },
   "outputs": [],
   "source": [
    "import keras\n",
    "from keras import backend as K\n",
    "from keras.models import Sequential\n",
    "from keras.layers import Activation\n",
    "from keras.layers.core import Dense\n",
    "from keras.optimizers import Adam"
   ]
  },
  {
   "cell_type": "code",
   "execution_count": null,
   "metadata": {
    "colab": {},
    "colab_type": "code",
    "id": "JnDQ5RPs4Nks"
   },
   "outputs": [],
   "source": [
    "model = Sequential([\n",
    "    Dense(16, input_shape=(2,), activation='relu'),\n",
    "    Dense(32, activation='relu'),\n",
    "    Dense(2, activation='sigmoid')\n",
    "])"
   ]
  },
  {
   "cell_type": "code",
   "execution_count": null,
   "metadata": {
    "colab": {},
    "colab_type": "code",
    "id": "S0rlICBR4NlB"
   },
   "outputs": [],
   "source": [
    "model.compile(Adam(lr=0.0001), loss='sparse_categorical_crossentropy', metrics=['accuracy'])"
   ]
  },
  {
   "cell_type": "code",
   "execution_count": null,
   "metadata": {
    "colab": {},
    "colab_type": "code",
    "id": "lnzo__rO4NlD"
   },
   "outputs": [],
   "source": [
    "# weight, height\n",
    "train_samples = [[150, 67], [130, 60], [200, 65], [125, 52], [230, 72], [181, 70]]"
   ]
  },
  {
   "cell_type": "code",
   "execution_count": null,
   "metadata": {
    "colab": {},
    "colab_type": "code",
    "id": "Cdqi-m_w4NlL"
   },
   "outputs": [],
   "source": [
    "# 0: male\n",
    "# 1: female\n",
    "train_labels = [1, 1, 0, 1, 0, 0]"
   ]
  },
  {
   "cell_type": "code",
   "execution_count": null,
   "metadata": {
    "colab": {},
    "colab_type": "code",
    "id": "lv1jrxfF4NlQ"
   },
   "outputs": [],
   "source": [
    "model.fit(x=train_samples, y=train_labels, batch_size=3, epochs=10, shuffle=True, verbose=2)"
   ]
  },
  {
   "cell_type": "markdown",
   "metadata": {
    "colab_type": "text",
    "id": "c-5zjH744NlZ"
   },
   "source": [
    "## Batch Normalization"
   ]
  },
  {
   "cell_type": "code",
   "execution_count": null,
   "metadata": {
    "colab": {},
    "colab_type": "code",
    "id": "GfzVvVl-4Nla"
   },
   "outputs": [],
   "source": [
    "from keras.models import Sequential\n",
    "from keras.layers import Dense, Activation, BatchNormalization"
   ]
  },
  {
   "cell_type": "code",
   "execution_count": null,
   "metadata": {
    "colab": {},
    "colab_type": "code",
    "id": "MNikxWjM4Nlh"
   },
   "outputs": [],
   "source": [
    "model = Sequential([\n",
    "    Dense(16, input_shape=(1,5), activation='relu'),\n",
    "    Dense(32, activation='relu'),\n",
    "    BatchNormalization(axis=1),\n",
    "    Dense(2, activation='softmax')\n",
    "])"
   ]
  },
  {
   "cell_type": "code",
   "execution_count": null,
   "metadata": {
    "colab": {},
    "colab_type": "code",
    "id": "Cw4cEiTV4Nlk"
   },
   "outputs": [],
   "source": [
    "#beta_initializer: Initializer for the beta weight.\n",
    "#gamma_initializer: Initializer for the gamma weight."
   ]
  }
 ],
 "metadata": {
  "colab": {
   "name": "DeepLearning.ipynb",
   "provenance": [],
   "toc_visible": true
  },
  "kernelspec": {
   "display_name": "Python 3",
   "language": "python",
   "name": "python3"
  },
  "language_info": {
   "codemirror_mode": {
    "name": "ipython",
    "version": 3
   },
   "file_extension": ".py",
   "mimetype": "text/x-python",
   "name": "python",
   "nbconvert_exporter": "python",
   "pygments_lexer": "ipython3",
   "version": "3.7.6"
  }
 },
 "nbformat": 4,
 "nbformat_minor": 1
}

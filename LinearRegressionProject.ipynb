{
 "cells": [
  {
   "cell_type": "markdown",
   "metadata": {
    "colab_type": "text",
    "id": "b2BUOcQ15hIS"
   },
   "source": [
    "# Linear Regression Project\n",
    "\n",
    "Using linear regression to predict the salary of an employee given how many years of experience they have. \n"
   ]
  },
  {
   "cell_type": "markdown",
   "metadata": {
    "colab_type": "text",
    "id": "pd-dhbiY5hIl"
   },
   "source": [
    "### Introduction"
   ]
  },
  {
   "cell_type": "markdown",
   "metadata": {
    "colab_type": "text",
    "id": "isnvtdfOlvEf"
   },
   "source": [
    "For our first project, we will use linear regression to predict the salary of an employee given how many years of experience they have. Theoretically, this relationship should be linear; if you have more experience, you make more money. \n",
    "\n",
    "The dataset we are using to train and test our model is titled Salary_data.csv and has two columns -- \"Years of Experience\" and \"Salary\" for 30 employees. X will be our independent variable and reperesent the years of experience. Y will be our dependent variable and represent their salary. Using the code below, we can import Pandas, our dataset, and initialize these variables. \n",
    "\n",
    "Whenever coding any type of application, the first step is always to import any relevant libraries. Usually, we will import them all together at the beginning to save time. However, for the purposes of this course, we will import the libraries as they are being used to show their application. \n",
    "\n",
    "Below, we are importing Pandas, an essential Python library. The graphic below demonstrates some of the functionality of Pandas. We use Pandas to read, write, and generally interact with our data. Below, we use pandas to import our dataset and initialize our variables X and Y. \n",
    "\n",
    "<img src=\"https://github.com/SiP-AI-ML/LessonMaterials/blob/master/images/pandasImage.png?raw=1\">"
   ]
  },
  {
   "cell_type": "code",
   "execution_count": 38,
   "metadata": {
    "colab": {},
    "colab_type": "code",
    "id": "KEH6RwGdlspa"
   },
   "outputs": [],
   "source": [
    "import pandas as pd\n",
    "dataset = pd.read_csv('https://raw.githubusercontent.com/SiP-AI-ML/LessonMaterials/master/Salary_Data.csv')\n",
    "X = dataset.iloc[:, :-1].values\n",
    "y = dataset.iloc[:,1].values\n"
   ]
  },
  {
   "cell_type": "markdown",
   "metadata": {
    "colab_type": "text",
    "id": "fgsfI0PEtnsk"
   },
   "source": [
    "### Splitting our dataset"
   ]
  },
  {
   "cell_type": "markdown",
   "metadata": {
    "colab_type": "text",
    "id": "xWD4e8A1oyEw"
   },
   "source": [
    "While coding a model, we need to 1) train it and improve its accuracy, and 2) test how well the model works on general, unknown data. To do this, we will split our dataset into training and testing sections. You can pick any divide you want as a fraction, and for our purposes we will split it into 2/3 training data and 1/3 testing data. "
   ]
  },
  {
   "cell_type": "code",
   "execution_count": 39,
   "metadata": {
    "colab": {},
    "colab_type": "code",
    "id": "reKuHByKpB62"
   },
   "outputs": [],
   "source": [
    "from sklearn.model_selection import train_test_split\n",
    "X_train, X_test, y_train, y_test = train_test_split(X, y, test_size=1/3, random_state=0)"
   ]
  },
  {
   "cell_type": "markdown",
   "metadata": {
    "colab_type": "text",
    "id": "HKh9QRV0tnso"
   },
   "source": [
    "### Fitting linear regression to our training data"
   ]
  },
  {
   "cell_type": "markdown",
   "metadata": {
    "colab_type": "text",
    "id": "YxLRlY2KpDht"
   },
   "source": [
    "Next, we will initilize sklearn, a useful Python library that contains various machine learning classes, including methods for linear regression. The graphic below explains the full capabilities of sklearn. By importing this library, we have a quick reference to all types of machine learning algorithms instead of replicating the entire mathematical process again and again. As the stereotype goes, programmers are lazy, and using these methods is far more efficient. \n",
    "\n",
    "<img src=\"https://github.com/SiP-AI-ML/LessonMaterials/blob/master/images/sklearn.png?raw=1\">\n",
    "\n",
    "We now have the facilities to train our model -- we have training-specific data and the algorithm to analyze this data. Using these two features, we will train our dataset using Linear Regression. To do this, we initialize a variable as LinearRegression(), then call the fit command, which fits the data provided to the linear regression template. When this concludes, we will have trained our model. "
   ]
  },
  {
   "cell_type": "code",
   "execution_count": 40,
   "metadata": {
    "colab": {
     "base_uri": "https://localhost:8080/",
     "height": 34
    },
    "colab_type": "code",
    "id": "YSP6hKabpYER",
    "outputId": "cda2639c-ff7e-4ea6-bd34-68eb5ecbe057"
   },
   "outputs": [
    {
     "data": {
      "text/plain": [
       "LinearRegression(copy_X=True, fit_intercept=True, n_jobs=None, normalize=False)"
      ]
     },
     "execution_count": 40,
     "metadata": {
      "tags": []
     },
     "output_type": "execute_result"
    }
   ],
   "source": [
    "from sklearn.linear_model import LinearRegression\n",
    "regressor = LinearRegression()\n",
    "regressor.fit(X_train, y_train)"
   ]
  },
  {
   "cell_type": "markdown",
   "metadata": {
    "colab_type": "text",
    "id": "N60wXxm5tnsz"
   },
   "source": [
    "### Making predictions"
   ]
  },
  {
   "cell_type": "markdown",
   "metadata": {
    "colab_type": "text",
    "id": "b1AIZxr5pZyu"
   },
   "source": [
    "Now that we have a linear regression model fitted and trained on our data, we need to assess how well it can predict unknown data, which is the entire purpose of machine learning. To do so, we will now refer to the other section of our dataset, the testing section. We call the predict function to do so. "
   ]
  },
  {
   "cell_type": "code",
   "execution_count": 41,
   "metadata": {
    "colab": {},
    "colab_type": "code",
    "id": "4YWwrwuApi99"
   },
   "outputs": [],
   "source": [
    "y_pred = regressor.predict(X_test)"
   ]
  },
  {
   "cell_type": "markdown",
   "metadata": {
    "colab_type": "text",
    "id": "iSiboIdktns3"
   },
   "source": [
    "### Visualizing our training set results"
   ]
  },
  {
   "cell_type": "markdown",
   "metadata": {
    "colab_type": "text",
    "id": "TwWHN7L_pkyr"
   },
   "source": [
    "Right now, all this is taking place in the background, meaning we can't see for ourselves how well it is doing. We want to visualize the results, and to do so, we will use another useful Python library called MatPlot. This allows us to plot the data on a graph, which is incredibly helpful. "
   ]
  },
  {
   "cell_type": "code",
   "execution_count": 42,
   "metadata": {
    "colab": {
     "base_uri": "https://localhost:8080/",
     "height": 295
    },
    "colab_type": "code",
    "id": "wMT50smGpznq",
    "outputId": "e415098f-3a92-4489-c0d0-33be4059fa07"
   },
   "outputs": [
    {
     "data": {
      "image/png": "[encoded data removed]",
      "text/plain": [
       "<Figure size 432x288 with 1 Axes>"
      ]
     },
     "metadata": {
      "needs_background": "light",
      "tags": []
     },
     "output_type": "display_data"
    }
   ],
   "source": [
    "import matplotlib.pyplot as plt\n",
    "# plot the actual data points of training set\n",
    "plt.scatter(X_train, y_train, color = 'red')\n",
    "# plot the regression line\n",
    "plt.plot(X_train, regressor.predict(X_train), color='blue')\n",
    "plt.title('Salary vs Experience (Training set)')\n",
    "plt.xlabel('Years of Experience')\n",
    "plt.ylabel('Salary')\n",
    "plt.show()"
   ]
  },
  {
   "cell_type": "markdown",
   "metadata": {
    "colab_type": "text",
    "id": "KmYBDmqdtns8"
   },
   "source": [
    "### Visualizing our test set results"
   ]
  },
  {
   "cell_type": "markdown",
   "metadata": {
    "colab_type": "text",
    "id": "-7tF4ZElqWgZ"
   },
   "source": [
    "We have now visualized how well our training data matched with our model, but we still haven't seen how accurate its predictions were. To do so, we will first plot the actual data in the testing set, and we will then plot our model's regression line (the same line as before) to see how well they match. "
   ]
  },
  {
   "cell_type": "code",
   "execution_count": 43,
   "metadata": {
    "colab": {
     "base_uri": "https://localhost:8080/",
     "height": 295
    },
    "colab_type": "code",
    "id": "XMO0scOGqgtK",
    "outputId": "8c6d8944-7716-4166-cb84-92d68dfef2a8"
   },
   "outputs": [
    {
     "data": {
      "image/png": "[encoded data removed]",
      "text/plain": [
       "<Figure size 432x288 with 1 Axes>"
      ]
     },
     "metadata": {
      "needs_background": "light",
      "tags": []
     },
     "output_type": "display_data"
    }
   ],
   "source": [
    "import matplotlib.pyplot as plt\n",
    "# plot the actual data points of test set\n",
    "plt.scatter(X_test, y_test, color = 'red')\n",
    "# plot the regression line (same as above)\n",
    "plt.plot(X_train, regressor.predict(X_train), color='blue')\n",
    "plt.title('Salary vs Experience (Test set)')\n",
    "plt.xlabel('Years of Experience')\n",
    "plt.ylabel('Salary')\n",
    "plt.show()"
   ]
  },
  {
   "cell_type": "markdown",
   "metadata": {
    "colab_type": "text",
    "id": "mev-Lo1atntA"
   },
   "source": [
    "### Practical application of our model"
   ]
  },
  {
   "cell_type": "markdown",
   "metadata": {
    "colab_type": "text",
    "id": "MlEuyM2zqjZJ"
   },
   "source": [
    "At this point, we are completed with our model. As an example of how you could apply this model in the real world, the code below shows the predicted salary of a person given a certain years of experience. "
   ]
  },
  {
   "cell_type": "code",
   "execution_count": 44,
   "metadata": {
    "colab": {
     "base_uri": "https://localhost:8080/",
     "height": 34
    },
    "colab_type": "code",
    "id": "P3F7RSXRqvSw",
    "outputId": "e8016bf2-4ab7-4212-8e39-68648e6264b8"
   },
   "outputs": [
    {
     "name": "stdout",
     "output_type": "stream",
     "text": [
      "The predicted salary of a person with 15 years experience is  [167005.32889087]\n"
     ]
    }
   ],
   "source": [
    "# Step 7 - Make new prediction\n",
    "new_salary_pred = regressor.predict([[15]])\n",
    "print('The predicted salary of a person with 15 years experience is ',new_salary_pred)"
   ]
  }
 ],
 "metadata": {
  "colab": {
   "collapsed_sections": [],
   "name": "LinearRegression.ipynb",
   "provenance": [],
   "toc_visible": true
  },
  "kernelspec": {
   "display_name": "Python 3",
   "language": "python",
   "name": "python3"
  },
  "language_info": {
   "codemirror_mode": {
    "name": "ipython",
    "version": 3
   },
   "file_extension": ".py",
   "mimetype": "text/x-python",
   "name": "python",
   "nbconvert_exporter": "python",
   "pygments_lexer": "ipython3",
   "version": "3.7.6"
  }
 },
 "nbformat": 4,
 "nbformat_minor": 1
}

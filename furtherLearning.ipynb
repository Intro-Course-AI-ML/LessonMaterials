{
 "cells": [
  {
   "cell_type": "markdown",
   "metadata": {},
   "source": [
    "Congrats! The Intro to AI course is now over. We really hoped that you guys enjoyed the last 8 weeks, because we really enjoyed teaching you all. \n",
    "\n",
    "You all have learned a lot so far, but there is obviously still a lot to learn. We recommend that you guys rewatch any videos and re-read any notebooks that you missed or that you want to brush up on.\n",
    "\n",
    "We recommend that you guys put your coding skills to the test now. We recommend hackathons, as its a great way to put your coding skills to the test in a fun way. \n",
    "\n",
    "Here are some places to find hackathons: \n",
    "Devpost: https://devpost.com/\n",
    "Hackclub Hackathon Listing: https://hackathons.hackclub.com/\n",
    "\n",
    "For more courses, go check out these free or cheap courses online: \n",
    "Machine Learning on Coursera: https://www.coursera.org/learn/machine-learning/home/welcome\n",
    "\n",
    "If you guys have any questions during the school year, email us!\n",
    "Ayaan: ayaanzhaque@gmail.com\n",
    "Viraaj: viraajreddi@gmail.com"
   ]
  }
 ],
 "metadata": {
  "kernelspec": {
   "display_name": "Python 3",
   "language": "python",
   "name": "python3"
  },
  "language_info": {
   "codemirror_mode": {
    "name": "ipython",
    "version": 3
   },
   "file_extension": ".py",
   "mimetype": "text/x-python",
   "name": "python",
   "nbconvert_exporter": "python",
   "pygments_lexer": "ipython3",
   "version": "3.7.6"
  }
 },
 "nbformat": 4,
 "nbformat_minor": 4
}

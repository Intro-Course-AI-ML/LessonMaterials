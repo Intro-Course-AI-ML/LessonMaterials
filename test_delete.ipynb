{
  "nbformat": 4,
  "nbformat_minor": 0,
  "metadata": {
    "colab": {
      "name": "test_delete.ipynb",
      "provenance": [],
      "authorship_tag": "ABX9TyPzaJOoVC5/+l8FWzzouHzR",
      "include_colab_link": true
    },
    "kernelspec": {
      "name": "python3",
      "display_name": "Python 3"
    }
  },
  "cells": [
    {
      "cell_type": "markdown",
      "metadata": {
        "id": "view-in-github",
        "colab_type": "text"
      },
      "source": [
        "<a href=\"https://colab.research.google.com/github/SiP-AI-ML/LessonMaterials/blob/master/test_delete.ipynb\" target=\"_parent\"><img src=\"https://colab.research.google.com/assets/colab-badge.svg\" alt=\"Open In Colab\"/></a>"
      ]
    },
    {
      "cell_type": "code",
      "metadata": {
        "id": "V1yw7X_tHFb6",
        "colab_type": "code",
        "colab": {}
      },
      "source": [
        "import pandas as pd\n",
        "\n",
        "pd.read_csv('test.csv')"
      ],
      "execution_count": null,
      "outputs": []
    }
  ]
}